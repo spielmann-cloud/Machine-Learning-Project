{
 "cells": [
  {
   "cell_type": "code",
   "execution_count": 1,
   "metadata": {},
   "outputs": [],
   "source": [
    "import pandas as pd\n",
    "import numpy as np\n",
    "import matplotlib.pyplot as plt\n",
    "from sklearn.preprocessing import StandardScaler\n",
    "import seaborn as sns"
   ]
  },
  {
   "cell_type": "code",
   "execution_count": 2,
   "metadata": {},
   "outputs": [],
   "source": [
    "data = pd.read_csv(\"data/project/train.csv\", delimiter=\";\")"
   ]
  },
  {
   "cell_type": "markdown",
   "metadata": {},
   "source": [
    "<h1> Überblick über Daten</h1>"
   ]
  },
  {
   "cell_type": "code",
   "execution_count": 3,
   "metadata": {},
   "outputs": [
    {
     "data": {
      "text/html": [
       "<div>\n",
       "<style scoped>\n",
       "    .dataframe tbody tr th:only-of-type {\n",
       "        vertical-align: middle;\n",
       "    }\n",
       "\n",
       "    .dataframe tbody tr th {\n",
       "        vertical-align: top;\n",
       "    }\n",
       "\n",
       "    .dataframe thead th {\n",
       "        text-align: right;\n",
       "    }\n",
       "</style>\n",
       "<table border=\"1\" class=\"dataframe\">\n",
       "  <thead>\n",
       "    <tr style=\"text-align: right;\">\n",
       "      <th></th>\n",
       "      <th>transactionId</th>\n",
       "      <th>basket</th>\n",
       "      <th>customerType</th>\n",
       "      <th>totalAmount</th>\n",
       "      <th>returnLabel</th>\n",
       "    </tr>\n",
       "  </thead>\n",
       "  <tbody>\n",
       "    <tr>\n",
       "      <th>0</th>\n",
       "      <td>9534310106</td>\n",
       "      <td>[4, 3, 4]</td>\n",
       "      <td>new</td>\n",
       "      <td>252.0</td>\n",
       "      <td>1</td>\n",
       "    </tr>\n",
       "    <tr>\n",
       "      <th>1</th>\n",
       "      <td>7202594767</td>\n",
       "      <td>[4, 2, 0, 2, 5]</td>\n",
       "      <td>existing</td>\n",
       "      <td>70.0</td>\n",
       "      <td>0</td>\n",
       "    </tr>\n",
       "    <tr>\n",
       "      <th>2</th>\n",
       "      <td>2737331698</td>\n",
       "      <td>[5]</td>\n",
       "      <td>existing</td>\n",
       "      <td>84.0</td>\n",
       "      <td>0</td>\n",
       "    </tr>\n",
       "    <tr>\n",
       "      <th>3</th>\n",
       "      <td>4868011733</td>\n",
       "      <td>[1, 4, 2, 4]</td>\n",
       "      <td>existing</td>\n",
       "      <td>116.0</td>\n",
       "      <td>0</td>\n",
       "    </tr>\n",
       "    <tr>\n",
       "      <th>4</th>\n",
       "      <td>7622406570</td>\n",
       "      <td>[2, 5, 3, 2, 3, 2, 0]</td>\n",
       "      <td>existing</td>\n",
       "      <td>378.0</td>\n",
       "      <td>0</td>\n",
       "    </tr>\n",
       "  </tbody>\n",
       "</table>\n",
       "</div>"
      ],
      "text/plain": [
       "   transactionId                 basket customerType  totalAmount  returnLabel\n",
       "0     9534310106              [4, 3, 4]          new        252.0            1\n",
       "1     7202594767        [4, 2, 0, 2, 5]     existing         70.0            0\n",
       "2     2737331698                    [5]     existing         84.0            0\n",
       "3     4868011733           [1, 4, 2, 4]     existing        116.0            0\n",
       "4     7622406570  [2, 5, 3, 2, 3, 2, 0]     existing        378.0            0"
      ]
     },
     "execution_count": 3,
     "metadata": {},
     "output_type": "execute_result"
    }
   ],
   "source": [
    "data.head()"
   ]
  },
  {
   "cell_type": "code",
   "execution_count": 4,
   "metadata": {},
   "outputs": [
    {
     "name": "stdout",
     "output_type": "stream",
     "text": [
      "<class 'pandas.core.frame.DataFrame'>\n",
      "RangeIndex: 22400 entries, 0 to 22399\n",
      "Data columns (total 5 columns):\n",
      " #   Column         Non-Null Count  Dtype  \n",
      "---  ------         --------------  -----  \n",
      " 0   transactionId  22400 non-null  int64  \n",
      " 1   basket         22400 non-null  object \n",
      " 2   customerType   21958 non-null  object \n",
      " 3   totalAmount    21923 non-null  float64\n",
      " 4   returnLabel    22400 non-null  int64  \n",
      "dtypes: float64(1), int64(2), object(2)\n",
      "memory usage: 875.1+ KB\n"
     ]
    }
   ],
   "source": [
    "data.info() #Werte von customerType und totalAmount fehlen\n"
   ]
  },
  {
   "cell_type": "code",
   "execution_count": 5,
   "metadata": {},
   "outputs": [
    {
     "data": {
      "text/plain": [
       "customerType    442\n",
       "dtype: int64"
      ]
     },
     "execution_count": 5,
     "metadata": {},
     "output_type": "execute_result"
    }
   ],
   "source": [
    "data[[\"customerType\"]].isna().sum() #Anzahl von fehlenden Werten in customerType"
   ]
  },
  {
   "cell_type": "code",
   "execution_count": 6,
   "metadata": {},
   "outputs": [
    {
     "data": {
      "text/plain": [
       "(22400, 5)"
      ]
     },
     "execution_count": 6,
     "metadata": {},
     "output_type": "execute_result"
    }
   ],
   "source": [
    "data.shape #Anzahl rows and columns"
   ]
  },
  {
   "cell_type": "code",
   "execution_count": 7,
   "metadata": {},
   "outputs": [
    {
     "data": {
      "text/plain": [
       "<AxesSubplot:>"
      ]
     },
     "execution_count": 7,
     "metadata": {},
     "output_type": "execute_result"
    },
    {
     "data": {
      "image/png": "[encoded data removed]",
      "text/plain": [
       "<Figure size 432x288 with 1 Axes>"
      ]
     },
     "metadata": {
      "needs_background": "light"
     },
     "output_type": "display_data"
    }
   ],
   "source": [
    "data[\"returnLabel\"].value_counts().plot(kind=\"bar\") #Zeigt Anzahl von nicht zurückgeschickt und zurückgeschickte Items"
   ]
  },
  {
   "cell_type": "markdown",
   "metadata": {},
   "source": [
    "<h1>1.Laden Training Data </h1>"
   ]
  },
  {
   "cell_type": "code",
   "execution_count": 8,
   "metadata": {},
   "outputs": [],
   "source": [
    "X_train = data.loc[:,\"basket\":\"totalAmount\"] #transactionId unnötig, basket, customerType, totalAmount - wichtige Features\n",
    "y_train = data[\"returnLabel\"] # Rückgabewert"
   ]
  },
  {
   "cell_type": "code",
   "execution_count": 9,
   "metadata": {},
   "outputs": [
    {
     "data": {
      "text/plain": [
       "<AxesSubplot:>"
      ]
     },
     "execution_count": 9,
     "metadata": {},
     "output_type": "execute_result"
    },
    {
     "data": {
      "image/png": "[encoded data removed]",
      "text/plain": [
       "<Figure size 432x288 with 1 Axes>"
      ]
     },
     "metadata": {
      "needs_background": "light"
     },
     "output_type": "display_data"
    }
   ],
   "source": [
    "X_train[\"customerType\"].value_counts().plot(kind=\"bar\")\n"
   ]
  },
  {
   "cell_type": "code",
   "execution_count": 10,
   "metadata": {},
   "outputs": [],
   "source": [
    "from pandas.plotting import scatter_matrix"
   ]
  },
  {
   "cell_type": "markdown",
   "metadata": {},
   "source": [
    "<h1> Data preprocessing </h1>"
   ]
  },
  {
   "cell_type": "code",
   "execution_count": 11,
   "metadata": {},
   "outputs": [],
   "source": [
    "from sklearn.impute import SimpleImputer"
   ]
  },
  {
   "cell_type": "markdown",
   "metadata": {},
   "source": [
    "#### Behandeln fehlende numerische Werte"
   ]
  },
  {
   "cell_type": "code",
   "execution_count": 12,
   "metadata": {},
   "outputs": [
    {
     "data": {
      "text/plain": [
       "SimpleImputer(strategy='median')"
      ]
     },
     "execution_count": 12,
     "metadata": {},
     "output_type": "execute_result"
    }
   ],
   "source": [
    "imputer = SimpleImputer(strategy=\"median\") #behandeln fehlende Werte => strategy: durch median ersetzen \n",
    "totAm = X_train[[\"totalAmount\"]] # nehme totalAmount Spalte\n",
    "imputer.fit(totAm) # berechnet median "
   ]
  },
  {
   "cell_type": "markdown",
   "metadata": {},
   "source": [
    "#### Behandeln fehlende kategorische Werte"
   ]
  },
  {
   "cell_type": "code",
   "execution_count": 13,
   "metadata": {},
   "outputs": [],
   "source": [
    "mode = X_train[\"customerType\"].mode().iloc[0] #gibt häufigste Wert zurück von kategorischen Features"
   ]
  },
  {
   "cell_type": "code",
   "execution_count": 14,
   "metadata": {},
   "outputs": [],
   "source": [
    "def prepareData(my_data):\n",
    "    \n",
    "    \n",
    "    my_data[\"AmountOfItems\"] = my_data.basket.map(lambda x: len(str(x).strip(\"][\").split(\", \")))\n",
    "    #basket\n",
    "    list_ = []\n",
    "    #Stellt eine Struktur dar, Liste von Dictionaries. Jede Dictionary(i) zeigt Häufigkeit von Produkten 0-5\n",
    "    for i in my_data.index.values:    #range(my_data[\"basket\"].shape[0])\n",
    "        val = str(my_data.loc[i, \"basket\"]).strip(\"][\").split(\", \")\n",
    "        list_.append(fromListToDic(val))\n",
    "        \n",
    "    #Erstellen Spalten 0 - 5 \n",
    "    #Map erstellt Liste von Häufigkeiten abhängig von Waren\n",
    "    for i in range(6): \n",
    "        my_data[str(i)] = list(map(lambda x: x[str(i)], list_))\n",
    "\n",
    "    \n",
    "    #Feature Engineering: if 5 was created \n",
    "    \n",
    "    my_data[\"ifFifth\"] = my_data[\"5\"].map(lambda x: 0 if x >= 1 else 1)\n",
    "    my_data[\"3or4not5\"] = my_data[\"basket\"].map(lambda x: 1 if((\"3\" in x or \"4\" in x) and \"5\" not in x) else 0)\n",
    "    my_data[\"0or1or2\"] = my_data[\"basket\"].map(lambda x: 0 if((\"0\" in x or \"1\" in x or \"2\" in x) ) else 1)\n",
    "\n",
    "    \n",
    "    \n",
    "    my_data = my_data.drop(columns=[\"basket\"])\n",
    "\n",
    "    return my_data"
   ]
  },
  {
   "cell_type": "code",
   "execution_count": 15,
   "metadata": {},
   "outputs": [],
   "source": [
    "\n",
    "def one_hot_customer(my_data):\n",
    "    one_hot_customer = pd.get_dummies(my_data[\"customerType\"])\n",
    "    my_data = pd.concat([my_data, one_hot_customer], axis=1)\n",
    "    my_data = my_data.drop(columns=[\"customerType\"])\n",
    "    \n",
    "\n",
    "    return my_data"
   ]
  },
  {
   "cell_type": "code",
   "execution_count": 16,
   "metadata": {},
   "outputs": [
    {
     "name": "stdout",
     "output_type": "stream",
     "text": [
      "dict_keys(['name', 'alt', 2, 'studium'])\n",
      "infb\n"
     ]
    }
   ],
   "source": [
    "md = {\"name\": \"morteza\", \"alt\" : 32, 2:\"wtf\"}\n",
    "md[\"studium\"] = \"infb\"\n",
    "print(md.keys())\n",
    "print(md[\"studium\"])"
   ]
  },
  {
   "cell_type": "code",
   "execution_count": 17,
   "metadata": {},
   "outputs": [],
   "source": [
    "\"\"\"Zählt Werte in Liste listObj, sog Häufigkeit\"\"\"\n",
    "def fromListToDic(listObj): #['4', '3', '4']\n",
    "    my_dict = {}\n",
    "    for i in range(len(listObj)): \n",
    "        if(listObj[i] not in my_dict.keys()):\n",
    "            my_dict[listObj[i]] = 1\n",
    "        else:\n",
    "            my_dict[listObj[i]]+=1\n",
    "            \n",
    "    \"\"\"Behandelt fehlende Keys in Liste. (weist 0 zu)\"\"\"\n",
    "    for i in range(6):\n",
    "        if(str(i) not in my_dict.keys()):\n",
    "            my_dict[str(i)] = 0\n",
    "    \n",
    "\n",
    "    return my_dict"
   ]
  },
  {
   "cell_type": "markdown",
   "metadata": {},
   "source": [
    "### Kleinere Beispiele von Hilfsmethoden"
   ]
  },
  {
   "cell_type": "code",
   "execution_count": 18,
   "metadata": {},
   "outputs": [
    {
     "data": {
      "text/plain": [
       "{'4': 2, '3': 1, '0': 0, '1': 0, '2': 0, '5': 0}"
      ]
     },
     "execution_count": 18,
     "metadata": {},
     "output_type": "execute_result"
    }
   ],
   "source": [
    "fromListToDic(X_train.loc[0,\"basket\"].strip('][').split(', '))\n",
    "#X_train.loc[0,\"basket\"].strip('][').split(', ')"
   ]
  },
  {
   "cell_type": "code",
   "execution_count": 19,
   "metadata": {},
   "outputs": [
    {
     "data": {
      "text/plain": [
       "'4, 3, 4'"
      ]
     },
     "execution_count": 19,
     "metadata": {},
     "output_type": "execute_result"
    }
   ],
   "source": [
    "X_train.loc[0, \"basket\"].strip(\"[]\")"
   ]
  },
  {
   "cell_type": "code",
   "execution_count": 20,
   "metadata": {},
   "outputs": [
    {
     "data": {
      "text/plain": [
       "['4', '3', '4']"
      ]
     },
     "execution_count": 20,
     "metadata": {},
     "output_type": "execute_result"
    }
   ],
   "source": [
    "X_train.loc[0, \"basket\"].strip(\"[]\").split(\", \")"
   ]
  },
  {
   "cell_type": "markdown",
   "metadata": {},
   "source": [
    "##  3. Füllen Sie fehlende Werte in den Trainingsdaten auf "
   ]
  },
  {
   "cell_type": "code",
   "execution_count": 21,
   "metadata": {},
   "outputs": [],
   "source": [
    "X_train[[\"totalAmount\"]] = imputer.transform(X_train[[\"totalAmount\"]]) # jetzt werden fehlende Werte durch median erstzt\n",
    "X_train[[\"customerType\"]] = X_train[[\"customerType\"]].fillna(mode) #NaN in customerType durch Häufigste Werte ersetzt \n",
    "#X_train[[\"customerType\"]].fillna(mode, inplace=True) "
   ]
  },
  {
   "cell_type": "markdown",
   "metadata": {},
   "source": [
    "## 4. Transformieren Sie die kategorischen Features mittels One-hot-encoding.\n",
    "## 5. Versuchen Sie auf Basis des Attributs basket Features zu bauen (z.B. wie oft kommt jede Kategorie im Basket vor)."
   ]
  },
  {
   "cell_type": "code",
   "execution_count": 22,
   "metadata": {},
   "outputs": [],
   "source": [
    "X_train = prepareData(X_train)\n",
    "X_train = one_hot_customer(X_train)"
   ]
  },
  {
   "cell_type": "markdown",
   "metadata": {},
   "source": [
    "<h1>Exploratory Data Analysis </h1>\n",
    "\n",
    "## 2. Führen Sie eine kurze EDA durch "
   ]
  },
  {
   "cell_type": "code",
   "execution_count": 23,
   "metadata": {},
   "outputs": [
    {
     "data": {
      "text/html": [
       "<div>\n",
       "<style scoped>\n",
       "    .dataframe tbody tr th:only-of-type {\n",
       "        vertical-align: middle;\n",
       "    }\n",
       "\n",
       "    .dataframe tbody tr th {\n",
       "        vertical-align: top;\n",
       "    }\n",
       "\n",
       "    .dataframe thead th {\n",
       "        text-align: right;\n",
       "    }\n",
       "</style>\n",
       "<table border=\"1\" class=\"dataframe\">\n",
       "  <thead>\n",
       "    <tr style=\"text-align: right;\">\n",
       "      <th></th>\n",
       "      <th>transactionId</th>\n",
       "      <th>basket</th>\n",
       "      <th>customerType</th>\n",
       "      <th>totalAmount</th>\n",
       "      <th>returnLabel</th>\n",
       "    </tr>\n",
       "  </thead>\n",
       "  <tbody>\n",
       "    <tr>\n",
       "      <th>0</th>\n",
       "      <td>9534310106</td>\n",
       "      <td>[4, 3, 4]</td>\n",
       "      <td>new</td>\n",
       "      <td>252.0</td>\n",
       "      <td>1</td>\n",
       "    </tr>\n",
       "    <tr>\n",
       "      <th>1</th>\n",
       "      <td>7202594767</td>\n",
       "      <td>[4, 2, 0, 2, 5]</td>\n",
       "      <td>existing</td>\n",
       "      <td>70.0</td>\n",
       "      <td>0</td>\n",
       "    </tr>\n",
       "    <tr>\n",
       "      <th>2</th>\n",
       "      <td>2737331698</td>\n",
       "      <td>[5]</td>\n",
       "      <td>existing</td>\n",
       "      <td>84.0</td>\n",
       "      <td>0</td>\n",
       "    </tr>\n",
       "    <tr>\n",
       "      <th>3</th>\n",
       "      <td>4868011733</td>\n",
       "      <td>[1, 4, 2, 4]</td>\n",
       "      <td>existing</td>\n",
       "      <td>116.0</td>\n",
       "      <td>0</td>\n",
       "    </tr>\n",
       "    <tr>\n",
       "      <th>4</th>\n",
       "      <td>7622406570</td>\n",
       "      <td>[2, 5, 3, 2, 3, 2, 0]</td>\n",
       "      <td>existing</td>\n",
       "      <td>378.0</td>\n",
       "      <td>0</td>\n",
       "    </tr>\n",
       "  </tbody>\n",
       "</table>\n",
       "</div>"
      ],
      "text/plain": [
       "   transactionId                 basket customerType  totalAmount  returnLabel\n",
       "0     9534310106              [4, 3, 4]          new        252.0            1\n",
       "1     7202594767        [4, 2, 0, 2, 5]     existing         70.0            0\n",
       "2     2737331698                    [5]     existing         84.0            0\n",
       "3     4868011733           [1, 4, 2, 4]     existing        116.0            0\n",
       "4     7622406570  [2, 5, 3, 2, 3, 2, 0]     existing        378.0            0"
      ]
     },
     "execution_count": 23,
     "metadata": {},
     "output_type": "execute_result"
    }
   ],
   "source": [
    "data.head()"
   ]
  },
  {
   "cell_type": "code",
   "execution_count": 24,
   "metadata": {},
   "outputs": [
    {
     "data": {
      "text/html": [
       "<div>\n",
       "<style scoped>\n",
       "    .dataframe tbody tr th:only-of-type {\n",
       "        vertical-align: middle;\n",
       "    }\n",
       "\n",
       "    .dataframe tbody tr th {\n",
       "        vertical-align: top;\n",
       "    }\n",
       "\n",
       "    .dataframe thead th {\n",
       "        text-align: right;\n",
       "    }\n",
       "</style>\n",
       "<table border=\"1\" class=\"dataframe\">\n",
       "  <thead>\n",
       "    <tr style=\"text-align: right;\">\n",
       "      <th></th>\n",
       "      <th>totalAmount</th>\n",
       "      <th>AmountOfItems</th>\n",
       "      <th>0</th>\n",
       "      <th>1</th>\n",
       "      <th>2</th>\n",
       "      <th>3</th>\n",
       "      <th>4</th>\n",
       "      <th>5</th>\n",
       "      <th>ifFifth</th>\n",
       "      <th>3or4not5</th>\n",
       "      <th>0or1or2</th>\n",
       "      <th>existing</th>\n",
       "      <th>new</th>\n",
       "    </tr>\n",
       "  </thead>\n",
       "  <tbody>\n",
       "    <tr>\n",
       "      <th>0</th>\n",
       "      <td>252.0</td>\n",
       "      <td>3</td>\n",
       "      <td>0</td>\n",
       "      <td>0</td>\n",
       "      <td>0</td>\n",
       "      <td>1</td>\n",
       "      <td>2</td>\n",
       "      <td>0</td>\n",
       "      <td>1</td>\n",
       "      <td>1</td>\n",
       "      <td>1</td>\n",
       "      <td>0</td>\n",
       "      <td>1</td>\n",
       "    </tr>\n",
       "    <tr>\n",
       "      <th>1</th>\n",
       "      <td>70.0</td>\n",
       "      <td>5</td>\n",
       "      <td>1</td>\n",
       "      <td>0</td>\n",
       "      <td>2</td>\n",
       "      <td>0</td>\n",
       "      <td>1</td>\n",
       "      <td>1</td>\n",
       "      <td>0</td>\n",
       "      <td>0</td>\n",
       "      <td>0</td>\n",
       "      <td>1</td>\n",
       "      <td>0</td>\n",
       "    </tr>\n",
       "    <tr>\n",
       "      <th>2</th>\n",
       "      <td>84.0</td>\n",
       "      <td>1</td>\n",
       "      <td>0</td>\n",
       "      <td>0</td>\n",
       "      <td>0</td>\n",
       "      <td>0</td>\n",
       "      <td>0</td>\n",
       "      <td>1</td>\n",
       "      <td>0</td>\n",
       "      <td>0</td>\n",
       "      <td>1</td>\n",
       "      <td>1</td>\n",
       "      <td>0</td>\n",
       "    </tr>\n",
       "    <tr>\n",
       "      <th>3</th>\n",
       "      <td>116.0</td>\n",
       "      <td>4</td>\n",
       "      <td>0</td>\n",
       "      <td>1</td>\n",
       "      <td>1</td>\n",
       "      <td>0</td>\n",
       "      <td>2</td>\n",
       "      <td>0</td>\n",
       "      <td>1</td>\n",
       "      <td>1</td>\n",
       "      <td>0</td>\n",
       "      <td>1</td>\n",
       "      <td>0</td>\n",
       "    </tr>\n",
       "    <tr>\n",
       "      <th>4</th>\n",
       "      <td>378.0</td>\n",
       "      <td>7</td>\n",
       "      <td>1</td>\n",
       "      <td>0</td>\n",
       "      <td>3</td>\n",
       "      <td>2</td>\n",
       "      <td>0</td>\n",
       "      <td>1</td>\n",
       "      <td>0</td>\n",
       "      <td>0</td>\n",
       "      <td>0</td>\n",
       "      <td>1</td>\n",
       "      <td>0</td>\n",
       "    </tr>\n",
       "    <tr>\n",
       "      <th>5</th>\n",
       "      <td>80.0</td>\n",
       "      <td>4</td>\n",
       "      <td>0</td>\n",
       "      <td>1</td>\n",
       "      <td>0</td>\n",
       "      <td>2</td>\n",
       "      <td>1</td>\n",
       "      <td>0</td>\n",
       "      <td>1</td>\n",
       "      <td>1</td>\n",
       "      <td>0</td>\n",
       "      <td>1</td>\n",
       "      <td>0</td>\n",
       "    </tr>\n",
       "    <tr>\n",
       "      <th>6</th>\n",
       "      <td>60.0</td>\n",
       "      <td>6</td>\n",
       "      <td>3</td>\n",
       "      <td>1</td>\n",
       "      <td>0</td>\n",
       "      <td>0</td>\n",
       "      <td>1</td>\n",
       "      <td>1</td>\n",
       "      <td>0</td>\n",
       "      <td>0</td>\n",
       "      <td>0</td>\n",
       "      <td>1</td>\n",
       "      <td>0</td>\n",
       "    </tr>\n",
       "    <tr>\n",
       "      <th>7</th>\n",
       "      <td>616.0</td>\n",
       "      <td>7</td>\n",
       "      <td>0</td>\n",
       "      <td>0</td>\n",
       "      <td>2</td>\n",
       "      <td>0</td>\n",
       "      <td>5</td>\n",
       "      <td>0</td>\n",
       "      <td>1</td>\n",
       "      <td>1</td>\n",
       "      <td>0</td>\n",
       "      <td>1</td>\n",
       "      <td>0</td>\n",
       "    </tr>\n",
       "    <tr>\n",
       "      <th>8</th>\n",
       "      <td>100.0</td>\n",
       "      <td>10</td>\n",
       "      <td>2</td>\n",
       "      <td>2</td>\n",
       "      <td>1</td>\n",
       "      <td>0</td>\n",
       "      <td>5</td>\n",
       "      <td>0</td>\n",
       "      <td>1</td>\n",
       "      <td>1</td>\n",
       "      <td>0</td>\n",
       "      <td>1</td>\n",
       "      <td>0</td>\n",
       "    </tr>\n",
       "    <tr>\n",
       "      <th>9</th>\n",
       "      <td>376.0</td>\n",
       "      <td>8</td>\n",
       "      <td>1</td>\n",
       "      <td>2</td>\n",
       "      <td>2</td>\n",
       "      <td>2</td>\n",
       "      <td>1</td>\n",
       "      <td>0</td>\n",
       "      <td>1</td>\n",
       "      <td>1</td>\n",
       "      <td>0</td>\n",
       "      <td>0</td>\n",
       "      <td>1</td>\n",
       "    </tr>\n",
       "  </tbody>\n",
       "</table>\n",
       "</div>"
      ],
      "text/plain": [
       "   totalAmount  AmountOfItems  0  1  2  3  4  5  ifFifth  3or4not5  0or1or2  \\\n",
       "0        252.0              3  0  0  0  1  2  0        1         1        1   \n",
       "1         70.0              5  1  0  2  0  1  1        0         0        0   \n",
       "2         84.0              1  0  0  0  0  0  1        0         0        1   \n",
       "3        116.0              4  0  1  1  0  2  0        1         1        0   \n",
       "4        378.0              7  1  0  3  2  0  1        0         0        0   \n",
       "5         80.0              4  0  1  0  2  1  0        1         1        0   \n",
       "6         60.0              6  3  1  0  0  1  1        0         0        0   \n",
       "7        616.0              7  0  0  2  0  5  0        1         1        0   \n",
       "8        100.0             10  2  2  1  0  5  0        1         1        0   \n",
       "9        376.0              8  1  2  2  2  1  0        1         1        0   \n",
       "\n",
       "   existing  new  \n",
       "0         0    1  \n",
       "1         1    0  \n",
       "2         1    0  \n",
       "3         1    0  \n",
       "4         1    0  \n",
       "5         1    0  \n",
       "6         1    0  \n",
       "7         1    0  \n",
       "8         1    0  \n",
       "9         0    1  "
      ]
     },
     "execution_count": 24,
     "metadata": {},
     "output_type": "execute_result"
    }
   ],
   "source": [
    "X_train.head(10)"
   ]
  },
  {
   "cell_type": "code",
   "execution_count": 25,
   "metadata": {},
   "outputs": [
    {
     "data": {
      "text/plain": [
       "<AxesSubplot:ylabel='Frequency'>"
      ]
     },
     "execution_count": 25,
     "metadata": {},
     "output_type": "execute_result"
    },
    {
     "data": {
      "image/png": "[encoded data removed]",
      "text/plain": [
       "<Figure size 432x288 with 1 Axes>"
      ]
     },
     "metadata": {
      "needs_background": "light"
     },
     "output_type": "display_data"
    }
   ],
   "source": [
    "X_train[[\"totalAmount\"]].plot(kind=\"hist\", bins=20) #Y = Häufigkeit, X = Intervalle aller Geld  "
   ]
  },
  {
   "cell_type": "code",
   "execution_count": 26,
   "metadata": {},
   "outputs": [
    {
     "data": {
      "image/png": "[encoded data removed]",
      "text/plain": [
       "<Figure size 432x288 with 1 Axes>"
      ]
     },
     "metadata": {
      "needs_background": "light"
     },
     "output_type": "display_data"
    }
   ],
   "source": [
    "plt.hist(X_train[\"totalAmount\"])\n",
    "plt.xlabel(\"totalAmount\")\n",
    "plt.ylabel(\"Häufigkeit\")\n",
    "plt.show()"
   ]
  },
  {
   "cell_type": "code",
   "execution_count": 27,
   "metadata": {},
   "outputs": [
    {
     "data": {
      "image/png": "[encoded data removed]",
      "text/plain": [
       "<Figure size 432x288 with 1 Axes>"
      ]
     },
     "metadata": {
      "needs_background": "light"
     },
     "output_type": "display_data"
    }
   ],
   "source": [
    "plt.hist(X_train[\"existing\"])\n",
    "plt.xlabel(\"neu Kunden - 0, alte Kunden - 1\")\n",
    "plt.ylabel(\"Häufigkeit\")\n",
    "plt.show()"
   ]
  },
  {
   "cell_type": "code",
   "execution_count": 28,
   "metadata": {},
   "outputs": [],
   "source": [
    "some_data=pd.concat([X_train, y_train], axis=1) \n"
   ]
  },
  {
   "cell_type": "markdown",
   "metadata": {},
   "source": [
    "### Ermitteln sie die Verteilung von returnLabel i) über alle Daten ???"
   ]
  },
  {
   "cell_type": "code",
   "execution_count": 29,
   "metadata": {},
   "outputs": [
    {
     "data": {
      "image/png": "[encoded data removed]",
      "text/plain": [
       "<Figure size 432x288 with 1 Axes>"
      ]
     },
     "metadata": {
      "needs_background": "light"
     },
     "output_type": "display_data"
    }
   ],
   "source": [
    "plt.hist(some_data[some_data[\"returnLabel\"] == 1][\"totalAmount\"], bins=20)\n",
    "plt.xlabel(\"totalAmount\")\n",
    "plt.ylabel(\"Häufigkeit (Zurückgeschickte Waren)\")\n",
    "plt.show()"
   ]
  },
  {
   "cell_type": "code",
   "execution_count": 30,
   "metadata": {},
   "outputs": [
    {
     "data": {
      "image/png": "[encoded data removed]",
      "text/plain": [
       "<Figure size 432x288 with 1 Axes>"
      ]
     },
     "metadata": {
      "needs_background": "light"
     },
     "output_type": "display_data"
    }
   ],
   "source": [
    "plt.hist(some_data[some_data[\"returnLabel\"] == 0][\"totalAmount\"], bins=20)\n",
    "plt.xlabel(\"totalAmount\")\n",
    "plt.ylabel(\"Häufigkeit (Nicht Zurückgeschickte Waren)\")\n",
    "plt.show()"
   ]
  },
  {
   "cell_type": "code",
   "execution_count": 31,
   "metadata": {},
   "outputs": [
    {
     "data": {
      "image/png": "[encoded data removed]",
      "text/plain": [
       "<Figure size 432x288 with 1 Axes>"
      ]
     },
     "metadata": {
      "needs_background": "light"
     },
     "output_type": "display_data"
    }
   ],
   "source": [
    "plt.hist(some_data[some_data[\"returnLabel\"] == 1][\"0\"], bins=20)\n",
    "plt.xlabel(\"Produkt 0\") # >4000 - Anzahl von Basket, in dem kein Produkt 0 gibt, die zurückgeschickt wurden\n",
    "plt.ylabel(\"Häufigkeit (Zurückgeschickte Waren)\")\n",
    "plt.show()"
   ]
  },
  {
   "cell_type": "code",
   "execution_count": 32,
   "metadata": {},
   "outputs": [
    {
     "data": {
      "image/png": "[encoded data removed]",
      "text/plain": [
       "<Figure size 432x288 with 1 Axes>"
      ]
     },
     "metadata": {
      "needs_background": "light"
     },
     "output_type": "display_data"
    }
   ],
   "source": [
    "plt.hist(some_data[some_data[\"returnLabel\"] == 0][\"0\"], bins=20)\n",
    "plt.xlabel(\"Produkt 0\") # >7000 - Anzahl von Basket, in dem kein Produkt 0 gibt, die nicht zurückgeschickt wurden\n",
    "plt.ylabel(\"Häufigkeit (Nicht Zurückgeschickte Waren)\")\n",
    "plt.show()"
   ]
  },
  {
   "cell_type": "code",
   "execution_count": 33,
   "metadata": {},
   "outputs": [
    {
     "data": {
      "image/png": "[encoded data removed]",
      "text/plain": [
       "<Figure size 432x288 with 1 Axes>"
      ]
     },
     "metadata": {
      "needs_background": "light"
     },
     "output_type": "display_data"
    }
   ],
   "source": [
    "plt.hist(some_data[some_data[\"returnLabel\"] == 1][\"1\"], bins=20)\n",
    "plt.xlabel(\"Produkt 1\") # >4000 - Anzahl von Basket, in dem kein Produkt 1 gibt, die zurückgeschickt wurden\n",
    "plt.ylabel(\"Häufigkeit (Zurückgeschickte Waren)\")\n",
    "plt.show()"
   ]
  },
  {
   "cell_type": "code",
   "execution_count": 34,
   "metadata": {},
   "outputs": [
    {
     "data": {
      "image/png": "[encoded data removed]",
      "text/plain": [
       "<Figure size 432x288 with 1 Axes>"
      ]
     },
     "metadata": {
      "needs_background": "light"
     },
     "output_type": "display_data"
    }
   ],
   "source": [
    "plt.hist(some_data[some_data[\"returnLabel\"] == 0][\"1\"], bins=20)\n",
    "plt.xlabel(\"Produkt 1\") # >7000 - Anzahl von Basket, in dem kein Produkt 1 gibt, die nicht zurückgeschickt wurden\n",
    "plt.ylabel(\"Häufigkeit (Nicht Zurückgeschickte Waren)\")\n",
    "plt.show()"
   ]
  },
  {
   "cell_type": "code",
   "execution_count": 35,
   "metadata": {},
   "outputs": [
    {
     "data": {
      "image/png": "[encoded data removed]",
      "text/plain": [
       "<Figure size 432x288 with 1 Axes>"
      ]
     },
     "metadata": {
      "needs_background": "light"
     },
     "output_type": "display_data"
    }
   ],
   "source": [
    "plt.hist(some_data[some_data[\"returnLabel\"] == 1][\"2\"], bins=20)\n",
    "plt.xlabel(\"Produkt 2\") # >4000 - Anzahl von Basket, in dem kein Produkt 2 gibt, die zurückgeschickt wurden\n",
    "plt.ylabel(\"Häufigkeit (Zurückgeschickte Waren)\")\n",
    "plt.show()"
   ]
  },
  {
   "cell_type": "code",
   "execution_count": 36,
   "metadata": {},
   "outputs": [
    {
     "data": {
      "image/png": "[encoded data removed]",
      "text/plain": [
       "<Figure size 432x288 with 1 Axes>"
      ]
     },
     "metadata": {
      "needs_background": "light"
     },
     "output_type": "display_data"
    }
   ],
   "source": [
    "plt.hist(some_data[some_data[\"returnLabel\"] == 0][\"2\"], bins=20)\n",
    "plt.xlabel(\"Produkt 2\") # >4000 - Anzahl von Basket, in dem kein Produkt 1 gibt, die nicht zurückgeschickt wurden\n",
    "plt.ylabel(\"Häufigkeit (Nicht Zurückgeschickte Waren)\")\n",
    "plt.show()"
   ]
  },
  {
   "cell_type": "code",
   "execution_count": 37,
   "metadata": {},
   "outputs": [
    {
     "data": {
      "image/png": "[encoded data removed]",
      "text/plain": [
       "<Figure size 432x288 with 1 Axes>"
      ]
     },
     "metadata": {
      "needs_background": "light"
     },
     "output_type": "display_data"
    }
   ],
   "source": [
    "plt.hist(some_data[some_data[\"returnLabel\"] == 1][\"3\"], bins=20)\n",
    "plt.xlabel(\"Produkt 3\") # >2000 - Anzahl von Basket, in dem kein Produkt 3 gibt, die zurückgeschickt wurden\n",
    "plt.ylabel(\"Häufigkeit (Zurückgeschickte Waren)\")\n",
    "plt.show()"
   ]
  },
  {
   "cell_type": "code",
   "execution_count": 38,
   "metadata": {},
   "outputs": [
    {
     "data": {
      "image/png": "[encoded data removed]",
      "text/plain": [
       "<Figure size 432x288 with 1 Axes>"
      ]
     },
     "metadata": {
      "needs_background": "light"
     },
     "output_type": "display_data"
    }
   ],
   "source": [
    "plt.hist(some_data[some_data[\"returnLabel\"] == 0][\"3\"], bins=20)\n",
    "plt.xlabel(\"Produkt 3\") # >4000 - Anzahl von Basket, in dem kein Produkt 3 gibt, die nict zurückgeschickt wurden\n",
    "plt.ylabel(\"Häufigkeit (Nicht Zurückgeschickte Waren)\")\n",
    "plt.show()"
   ]
  },
  {
   "cell_type": "code",
   "execution_count": 39,
   "metadata": {},
   "outputs": [
    {
     "data": {
      "image/png": "[encoded data removed]",
      "text/plain": [
       "<Figure size 432x288 with 1 Axes>"
      ]
     },
     "metadata": {
      "needs_background": "light"
     },
     "output_type": "display_data"
    }
   ],
   "source": [
    "plt.hist(some_data[some_data[\"returnLabel\"] == 1][\"4\"], bins=20)\n",
    "plt.xlabel(\"Produkt 4\") \n",
    "plt.ylabel(\"Häufigkeit (Zurückgeschickte Waren)\")\n",
    "plt.show()"
   ]
  },
  {
   "cell_type": "code",
   "execution_count": 40,
   "metadata": {},
   "outputs": [
    {
     "data": {
      "image/png": "[encoded data removed]",
      "text/plain": [
       "<Figure size 432x288 with 1 Axes>"
      ]
     },
     "metadata": {
      "needs_background": "light"
     },
     "output_type": "display_data"
    }
   ],
   "source": [
    "plt.hist(some_data[some_data[\"returnLabel\"] == 0][\"4\"], bins=20)\n",
    "plt.xlabel(\"Produkt 4\") \n",
    "plt.ylabel(\"Häufigkeit (Nicht Zurückgeschickte Waren)\")\n",
    "plt.show()"
   ]
  },
  {
   "cell_type": "code",
   "execution_count": 41,
   "metadata": {},
   "outputs": [
    {
     "data": {
      "image/png": "[encoded data removed]",
      "text/plain": [
       "<Figure size 432x288 with 1 Axes>"
      ]
     },
     "metadata": {
      "needs_background": "light"
     },
     "output_type": "display_data"
    }
   ],
   "source": [
    "plt.hist(some_data[some_data[\"returnLabel\"] == 1][\"5\"], bins=20)\n",
    "plt.xlabel(\"Produkt 5\") \n",
    "plt.ylabel(\"Häufigkeit (Zurückgeschickte Waren)\")\n",
    "plt.show()"
   ]
  },
  {
   "cell_type": "code",
   "execution_count": 42,
   "metadata": {},
   "outputs": [
    {
     "data": {
      "image/png": "[encoded data removed]",
      "text/plain": [
       "<Figure size 432x288 with 1 Axes>"
      ]
     },
     "metadata": {
      "needs_background": "light"
     },
     "output_type": "display_data"
    }
   ],
   "source": [
    "plt.hist(some_data[some_data[\"returnLabel\"] == 0][\"5\"], bins=20)\n",
    "plt.xlabel(\"Produkt 5\") \n",
    "plt.ylabel(\"Häufigkeit (Nicht Zurückgeschickte Waren)\")\n",
    "plt.show()"
   ]
  },
  {
   "cell_type": "markdown",
   "metadata": {},
   "source": [
    "### Ermitteln sie die Verteilung von returnLabel ii) in Abhängigkeit\n",
    "### zu allen Ausprägungen von customerType"
   ]
  },
  {
   "cell_type": "code",
   "execution_count": 43,
   "metadata": {},
   "outputs": [
    {
     "data": {
      "image/png": "[encoded data removed]",
      "text/plain": [
       "<Figure size 432x288 with 1 Axes>"
      ]
     },
     "metadata": {
      "needs_background": "light"
     },
     "output_type": "display_data"
    }
   ],
   "source": [
    "plt.hist(some_data[some_data[\"returnLabel\"] == 1][\"existing\"])\n",
    "plt.ylabel(\"Zurückgeschikte Waren\")\n",
    "plt.xlabel(\"neu Kunden - 0, alte Kunden - 1\")\n",
    "plt.show()"
   ]
  },
  {
   "cell_type": "code",
   "execution_count": 44,
   "metadata": {},
   "outputs": [
    {
     "data": {
      "image/png": "[encoded data removed]",
      "text/plain": [
       "<Figure size 432x288 with 1 Axes>"
      ]
     },
     "metadata": {
      "needs_background": "light"
     },
     "output_type": "display_data"
    }
   ],
   "source": [
    "plt.hist(some_data[some_data[\"returnLabel\"] == 0][\"existing\"])\n",
    "plt.ylabel(\"Nicht Zurückgeschikte Waren\")\n",
    "plt.xlabel(\"neu Kunden - 0, alte Kunden - 1\")\n",
    "plt.show()"
   ]
  },
  {
   "cell_type": "code",
   "execution_count": 45,
   "metadata": {},
   "outputs": [
    {
     "data": {
      "text/html": [
       "<div>\n",
       "<style scoped>\n",
       "    .dataframe tbody tr th:only-of-type {\n",
       "        vertical-align: middle;\n",
       "    }\n",
       "\n",
       "    .dataframe tbody tr th {\n",
       "        vertical-align: top;\n",
       "    }\n",
       "\n",
       "    .dataframe thead th {\n",
       "        text-align: right;\n",
       "    }\n",
       "</style>\n",
       "<table border=\"1\" class=\"dataframe\">\n",
       "  <thead>\n",
       "    <tr style=\"text-align: right;\">\n",
       "      <th></th>\n",
       "      <th>5</th>\n",
       "    </tr>\n",
       "    <tr>\n",
       "      <th>returnLabel</th>\n",
       "      <th></th>\n",
       "    </tr>\n",
       "  </thead>\n",
       "  <tbody>\n",
       "    <tr>\n",
       "      <th>0</th>\n",
       "      <td>12319</td>\n",
       "    </tr>\n",
       "    <tr>\n",
       "      <th>1</th>\n",
       "      <td>0</td>\n",
       "    </tr>\n",
       "  </tbody>\n",
       "</table>\n",
       "</div>"
      ],
      "text/plain": [
       "                 5\n",
       "returnLabel       \n",
       "0            12319\n",
       "1                0"
      ]
     },
     "execution_count": 45,
     "metadata": {},
     "output_type": "execute_result"
    }
   ],
   "source": [
    "pd.concat([X_train[\"5\"], y_train], axis=1).groupby(by=\"returnLabel\").sum()"
   ]
  },
  {
   "cell_type": "code",
   "execution_count": 46,
   "metadata": {},
   "outputs": [
    {
     "data": {
      "text/html": [
       "<div>\n",
       "<style scoped>\n",
       "    .dataframe tbody tr th:only-of-type {\n",
       "        vertical-align: middle;\n",
       "    }\n",
       "\n",
       "    .dataframe tbody tr th {\n",
       "        vertical-align: top;\n",
       "    }\n",
       "\n",
       "    .dataframe thead th {\n",
       "        text-align: right;\n",
       "    }\n",
       "</style>\n",
       "<table border=\"1\" class=\"dataframe\">\n",
       "  <thead>\n",
       "    <tr style=\"text-align: right;\">\n",
       "      <th></th>\n",
       "      <th>returnLabel</th>\n",
       "    </tr>\n",
       "    <tr>\n",
       "      <th>existing</th>\n",
       "      <th></th>\n",
       "    </tr>\n",
       "  </thead>\n",
       "  <tbody>\n",
       "    <tr>\n",
       "      <th>0</th>\n",
       "      <td>3665</td>\n",
       "    </tr>\n",
       "    <tr>\n",
       "      <th>1</th>\n",
       "      <td>2987</td>\n",
       "    </tr>\n",
       "  </tbody>\n",
       "</table>\n",
       "</div>"
      ],
      "text/plain": [
       "          returnLabel\n",
       "existing             \n",
       "0                3665\n",
       "1                2987"
      ]
     },
     "execution_count": 46,
     "metadata": {},
     "output_type": "execute_result"
    }
   ],
   "source": [
    "dataex = pd.concat([X_train[\"existing\"], y_train],axis=1)\n",
    "dataex[dataex[\"returnLabel\"] == 1].groupby(by=\"existing\").count()"
   ]
  },
  {
   "cell_type": "code",
   "execution_count": 47,
   "metadata": {},
   "outputs": [
    {
     "data": {
      "text/html": [
       "<div>\n",
       "<style scoped>\n",
       "    .dataframe tbody tr th:only-of-type {\n",
       "        vertical-align: middle;\n",
       "    }\n",
       "\n",
       "    .dataframe tbody tr th {\n",
       "        vertical-align: top;\n",
       "    }\n",
       "\n",
       "    .dataframe thead th {\n",
       "        text-align: right;\n",
       "    }\n",
       "</style>\n",
       "<table border=\"1\" class=\"dataframe\">\n",
       "  <thead>\n",
       "    <tr style=\"text-align: right;\">\n",
       "      <th></th>\n",
       "      <th>returnLabel</th>\n",
       "    </tr>\n",
       "    <tr>\n",
       "      <th>new</th>\n",
       "      <th></th>\n",
       "    </tr>\n",
       "  </thead>\n",
       "  <tbody>\n",
       "    <tr>\n",
       "      <th>0</th>\n",
       "      <td>2987</td>\n",
       "    </tr>\n",
       "    <tr>\n",
       "      <th>1</th>\n",
       "      <td>3665</td>\n",
       "    </tr>\n",
       "  </tbody>\n",
       "</table>\n",
       "</div>"
      ],
      "text/plain": [
       "     returnLabel\n",
       "new             \n",
       "0           2987\n",
       "1           3665"
      ]
     },
     "execution_count": 47,
     "metadata": {},
     "output_type": "execute_result"
    }
   ],
   "source": [
    "datanew = pd.concat([X_train[\"new\"], y_train],axis=1)\n",
    "datanew[datanew[\"returnLabel\"] == 1].groupby(by=\"new\").count()"
   ]
  },
  {
   "cell_type": "code",
   "execution_count": 48,
   "metadata": {},
   "outputs": [
    {
     "data": {
      "text/html": [
       "<div>\n",
       "<style scoped>\n",
       "    .dataframe tbody tr th:only-of-type {\n",
       "        vertical-align: middle;\n",
       "    }\n",
       "\n",
       "    .dataframe tbody tr th {\n",
       "        vertical-align: top;\n",
       "    }\n",
       "\n",
       "    .dataframe thead th {\n",
       "        text-align: right;\n",
       "    }\n",
       "</style>\n",
       "<table border=\"1\" class=\"dataframe\">\n",
       "  <thead>\n",
       "    <tr style=\"text-align: right;\">\n",
       "      <th></th>\n",
       "      <th>totalAmount</th>\n",
       "      <th>AmountOfItems</th>\n",
       "      <th>0</th>\n",
       "      <th>1</th>\n",
       "      <th>2</th>\n",
       "      <th>3</th>\n",
       "      <th>4</th>\n",
       "      <th>5</th>\n",
       "      <th>ifFifth</th>\n",
       "      <th>3or4not5</th>\n",
       "      <th>0or1or2</th>\n",
       "      <th>existing</th>\n",
       "      <th>new</th>\n",
       "      <th>returnLabel</th>\n",
       "    </tr>\n",
       "  </thead>\n",
       "  <tbody>\n",
       "    <tr>\n",
       "      <th>totalAmount</th>\n",
       "      <td>1.000000</td>\n",
       "      <td>0.684178</td>\n",
       "      <td>0.262564</td>\n",
       "      <td>0.260929</td>\n",
       "      <td>0.270573</td>\n",
       "      <td>0.404286</td>\n",
       "      <td>0.456082</td>\n",
       "      <td>0.156346</td>\n",
       "      <td>-0.093951</td>\n",
       "      <td>0.074644</td>\n",
       "      <td>-0.258612</td>\n",
       "      <td>-0.065320</td>\n",
       "      <td>0.065320</td>\n",
       "      <td>0.168470</td>\n",
       "    </tr>\n",
       "    <tr>\n",
       "      <th>AmountOfItems</th>\n",
       "      <td>0.684178</td>\n",
       "      <td>1.000000</td>\n",
       "      <td>0.454818</td>\n",
       "      <td>0.450762</td>\n",
       "      <td>0.446121</td>\n",
       "      <td>0.515178</td>\n",
       "      <td>0.507910</td>\n",
       "      <td>0.372937</td>\n",
       "      <td>-0.303313</td>\n",
       "      <td>-0.060252</td>\n",
       "      <td>-0.419399</td>\n",
       "      <td>0.008253</td>\n",
       "      <td>-0.008253</td>\n",
       "      <td>-0.011712</td>\n",
       "    </tr>\n",
       "    <tr>\n",
       "      <th>0</th>\n",
       "      <td>0.262564</td>\n",
       "      <td>0.454818</td>\n",
       "      <td>1.000000</td>\n",
       "      <td>0.119681</td>\n",
       "      <td>0.109747</td>\n",
       "      <td>0.036683</td>\n",
       "      <td>-0.012548</td>\n",
       "      <td>0.166020</td>\n",
       "      <td>-0.169834</td>\n",
       "      <td>-0.141414</td>\n",
       "      <td>-0.373360</td>\n",
       "      <td>0.079340</td>\n",
       "      <td>-0.079340</td>\n",
       "      <td>-0.195063</td>\n",
       "    </tr>\n",
       "    <tr>\n",
       "      <th>1</th>\n",
       "      <td>0.260929</td>\n",
       "      <td>0.450762</td>\n",
       "      <td>0.119681</td>\n",
       "      <td>1.000000</td>\n",
       "      <td>0.109225</td>\n",
       "      <td>0.049567</td>\n",
       "      <td>-0.014441</td>\n",
       "      <td>0.144141</td>\n",
       "      <td>-0.154102</td>\n",
       "      <td>-0.125316</td>\n",
       "      <td>-0.371509</td>\n",
       "      <td>0.080929</td>\n",
       "      <td>-0.080929</td>\n",
       "      <td>-0.187594</td>\n",
       "    </tr>\n",
       "    <tr>\n",
       "      <th>2</th>\n",
       "      <td>0.270573</td>\n",
       "      <td>0.446121</td>\n",
       "      <td>0.109747</td>\n",
       "      <td>0.109225</td>\n",
       "      <td>1.000000</td>\n",
       "      <td>0.042115</td>\n",
       "      <td>-0.012158</td>\n",
       "      <td>0.133674</td>\n",
       "      <td>-0.143338</td>\n",
       "      <td>-0.122766</td>\n",
       "      <td>-0.375045</td>\n",
       "      <td>0.069771</td>\n",
       "      <td>-0.069771</td>\n",
       "      <td>-0.186754</td>\n",
       "    </tr>\n",
       "    <tr>\n",
       "      <th>3</th>\n",
       "      <td>0.404286</td>\n",
       "      <td>0.515178</td>\n",
       "      <td>0.036683</td>\n",
       "      <td>0.049567</td>\n",
       "      <td>0.042115</td>\n",
       "      <td>1.000000</td>\n",
       "      <td>0.200261</td>\n",
       "      <td>-0.036485</td>\n",
       "      <td>0.059107</td>\n",
       "      <td>0.249255</td>\n",
       "      <td>-0.047479</td>\n",
       "      <td>-0.081459</td>\n",
       "      <td>0.081459</td>\n",
       "      <td>0.207076</td>\n",
       "    </tr>\n",
       "    <tr>\n",
       "      <th>4</th>\n",
       "      <td>0.456082</td>\n",
       "      <td>0.507910</td>\n",
       "      <td>-0.012548</td>\n",
       "      <td>-0.014441</td>\n",
       "      <td>-0.012158</td>\n",
       "      <td>0.200261</td>\n",
       "      <td>1.000000</td>\n",
       "      <td>-0.146244</td>\n",
       "      <td>0.184837</td>\n",
       "      <td>0.370513</td>\n",
       "      <td>0.002050</td>\n",
       "      <td>-0.171074</td>\n",
       "      <td>0.171074</td>\n",
       "      <td>0.456366</td>\n",
       "    </tr>\n",
       "    <tr>\n",
       "      <th>5</th>\n",
       "      <td>0.156346</td>\n",
       "      <td>0.372937</td>\n",
       "      <td>0.166020</td>\n",
       "      <td>0.144141</td>\n",
       "      <td>0.133674</td>\n",
       "      <td>-0.036485</td>\n",
       "      <td>-0.146244</td>\n",
       "      <td>1.000000</td>\n",
       "      <td>-0.843383</td>\n",
       "      <td>-0.673833</td>\n",
       "      <td>-0.134059</td>\n",
       "      <td>0.157064</td>\n",
       "      <td>-0.157064</td>\n",
       "      <td>-0.418620</td>\n",
       "    </tr>\n",
       "    <tr>\n",
       "      <th>ifFifth</th>\n",
       "      <td>-0.093951</td>\n",
       "      <td>-0.303313</td>\n",
       "      <td>-0.169834</td>\n",
       "      <td>-0.154102</td>\n",
       "      <td>-0.143338</td>\n",
       "      <td>0.059107</td>\n",
       "      <td>0.184837</td>\n",
       "      <td>-0.843383</td>\n",
       "      <td>1.000000</td>\n",
       "      <td>0.798964</td>\n",
       "      <td>0.123372</td>\n",
       "      <td>-0.182113</td>\n",
       "      <td>0.182113</td>\n",
       "      <td>0.496359</td>\n",
       "    </tr>\n",
       "    <tr>\n",
       "      <th>3or4not5</th>\n",
       "      <td>0.074644</td>\n",
       "      <td>-0.060252</td>\n",
       "      <td>-0.141414</td>\n",
       "      <td>-0.125316</td>\n",
       "      <td>-0.122766</td>\n",
       "      <td>0.249255</td>\n",
       "      <td>0.370513</td>\n",
       "      <td>-0.673833</td>\n",
       "      <td>0.798964</td>\n",
       "      <td>1.000000</td>\n",
       "      <td>0.224801</td>\n",
       "      <td>-0.205248</td>\n",
       "      <td>0.205248</td>\n",
       "      <td>0.553964</td>\n",
       "    </tr>\n",
       "    <tr>\n",
       "      <th>0or1or2</th>\n",
       "      <td>-0.258612</td>\n",
       "      <td>-0.419399</td>\n",
       "      <td>-0.373360</td>\n",
       "      <td>-0.371509</td>\n",
       "      <td>-0.375045</td>\n",
       "      <td>-0.047479</td>\n",
       "      <td>0.002050</td>\n",
       "      <td>-0.134059</td>\n",
       "      <td>0.123372</td>\n",
       "      <td>0.224801</td>\n",
       "      <td>1.000000</td>\n",
       "      <td>-0.091605</td>\n",
       "      <td>0.091605</td>\n",
       "      <td>0.208047</td>\n",
       "    </tr>\n",
       "    <tr>\n",
       "      <th>existing</th>\n",
       "      <td>-0.065320</td>\n",
       "      <td>0.008253</td>\n",
       "      <td>0.079340</td>\n",
       "      <td>0.080929</td>\n",
       "      <td>0.069771</td>\n",
       "      <td>-0.081459</td>\n",
       "      <td>-0.171074</td>\n",
       "      <td>0.157064</td>\n",
       "      <td>-0.182113</td>\n",
       "      <td>-0.205248</td>\n",
       "      <td>-0.091605</td>\n",
       "      <td>1.000000</td>\n",
       "      <td>-1.000000</td>\n",
       "      <td>-0.370870</td>\n",
       "    </tr>\n",
       "    <tr>\n",
       "      <th>new</th>\n",
       "      <td>0.065320</td>\n",
       "      <td>-0.008253</td>\n",
       "      <td>-0.079340</td>\n",
       "      <td>-0.080929</td>\n",
       "      <td>-0.069771</td>\n",
       "      <td>0.081459</td>\n",
       "      <td>0.171074</td>\n",
       "      <td>-0.157064</td>\n",
       "      <td>0.182113</td>\n",
       "      <td>0.205248</td>\n",
       "      <td>0.091605</td>\n",
       "      <td>-1.000000</td>\n",
       "      <td>1.000000</td>\n",
       "      <td>0.370870</td>\n",
       "    </tr>\n",
       "    <tr>\n",
       "      <th>returnLabel</th>\n",
       "      <td>0.168470</td>\n",
       "      <td>-0.011712</td>\n",
       "      <td>-0.195063</td>\n",
       "      <td>-0.187594</td>\n",
       "      <td>-0.186754</td>\n",
       "      <td>0.207076</td>\n",
       "      <td>0.456366</td>\n",
       "      <td>-0.418620</td>\n",
       "      <td>0.496359</td>\n",
       "      <td>0.553964</td>\n",
       "      <td>0.208047</td>\n",
       "      <td>-0.370870</td>\n",
       "      <td>0.370870</td>\n",
       "      <td>1.000000</td>\n",
       "    </tr>\n",
       "  </tbody>\n",
       "</table>\n",
       "</div>"
      ],
      "text/plain": [
       "               totalAmount  AmountOfItems         0         1         2  \\\n",
       "totalAmount       1.000000       0.684178  0.262564  0.260929  0.270573   \n",
       "AmountOfItems     0.684178       1.000000  0.454818  0.450762  0.446121   \n",
       "0                 0.262564       0.454818  1.000000  0.119681  0.109747   \n",
       "1                 0.260929       0.450762  0.119681  1.000000  0.109225   \n",
       "2                 0.270573       0.446121  0.109747  0.109225  1.000000   \n",
       "3                 0.404286       0.515178  0.036683  0.049567  0.042115   \n",
       "4                 0.456082       0.507910 -0.012548 -0.014441 -0.012158   \n",
       "5                 0.156346       0.372937  0.166020  0.144141  0.133674   \n",
       "ifFifth          -0.093951      -0.303313 -0.169834 -0.154102 -0.143338   \n",
       "3or4not5          0.074644      -0.060252 -0.141414 -0.125316 -0.122766   \n",
       "0or1or2          -0.258612      -0.419399 -0.373360 -0.371509 -0.375045   \n",
       "existing         -0.065320       0.008253  0.079340  0.080929  0.069771   \n",
       "new               0.065320      -0.008253 -0.079340 -0.080929 -0.069771   \n",
       "returnLabel       0.168470      -0.011712 -0.195063 -0.187594 -0.186754   \n",
       "\n",
       "                      3         4         5   ifFifth  3or4not5   0or1or2  \\\n",
       "totalAmount    0.404286  0.456082  0.156346 -0.093951  0.074644 -0.258612   \n",
       "AmountOfItems  0.515178  0.507910  0.372937 -0.303313 -0.060252 -0.419399   \n",
       "0              0.036683 -0.012548  0.166020 -0.169834 -0.141414 -0.373360   \n",
       "1              0.049567 -0.014441  0.144141 -0.154102 -0.125316 -0.371509   \n",
       "2              0.042115 -0.012158  0.133674 -0.143338 -0.122766 -0.375045   \n",
       "3              1.000000  0.200261 -0.036485  0.059107  0.249255 -0.047479   \n",
       "4              0.200261  1.000000 -0.146244  0.184837  0.370513  0.002050   \n",
       "5             -0.036485 -0.146244  1.000000 -0.843383 -0.673833 -0.134059   \n",
       "ifFifth        0.059107  0.184837 -0.843383  1.000000  0.798964  0.123372   \n",
       "3or4not5       0.249255  0.370513 -0.673833  0.798964  1.000000  0.224801   \n",
       "0or1or2       -0.047479  0.002050 -0.134059  0.123372  0.224801  1.000000   \n",
       "existing      -0.081459 -0.171074  0.157064 -0.182113 -0.205248 -0.091605   \n",
       "new            0.081459  0.171074 -0.157064  0.182113  0.205248  0.091605   \n",
       "returnLabel    0.207076  0.456366 -0.418620  0.496359  0.553964  0.208047   \n",
       "\n",
       "               existing       new  returnLabel  \n",
       "totalAmount   -0.065320  0.065320     0.168470  \n",
       "AmountOfItems  0.008253 -0.008253    -0.011712  \n",
       "0              0.079340 -0.079340    -0.195063  \n",
       "1              0.080929 -0.080929    -0.187594  \n",
       "2              0.069771 -0.069771    -0.186754  \n",
       "3             -0.081459  0.081459     0.207076  \n",
       "4             -0.171074  0.171074     0.456366  \n",
       "5              0.157064 -0.157064    -0.418620  \n",
       "ifFifth       -0.182113  0.182113     0.496359  \n",
       "3or4not5      -0.205248  0.205248     0.553964  \n",
       "0or1or2       -0.091605  0.091605     0.208047  \n",
       "existing       1.000000 -1.000000    -0.370870  \n",
       "new           -1.000000  1.000000     0.370870  \n",
       "returnLabel   -0.370870  0.370870     1.000000  "
      ]
     },
     "execution_count": 48,
     "metadata": {},
     "output_type": "execute_result"
    }
   ],
   "source": [
    "some_data.corr()"
   ]
  },
  {
   "cell_type": "markdown",
   "metadata": {},
   "source": [
    "### Erstellen Sie einen Boxplot für totalAmount in Abhängigkeit des Labels (nutzen\n",
    "### Sie dafür den Parameter by=…)"
   ]
  },
  {
   "cell_type": "code",
   "execution_count": 49,
   "metadata": {},
   "outputs": [
    {
     "data": {
      "text/plain": [
       "<AxesSubplot:title={'center':'totalAmount'}, xlabel='returnLabel'>"
      ]
     },
     "execution_count": 49,
     "metadata": {},
     "output_type": "execute_result"
    },
    {
     "data": {
      "image/png": "[encoded data removed]",
      "text/plain": [
       "<Figure size 432x288 with 1 Axes>"
      ]
     },
     "metadata": {
      "needs_background": "light"
     },
     "output_type": "display_data"
    }
   ],
   "source": [
    "some_data.boxplot(column = \"totalAmount\", by=\"returnLabel\", grid=True)\n"
   ]
  },
  {
   "cell_type": "code",
   "execution_count": 50,
   "metadata": {},
   "outputs": [
    {
     "data": {
      "text/plain": [
       "count    15748.000000\n",
       "mean       234.329947\n",
       "std        197.766613\n",
       "min         10.000000\n",
       "25%         78.000000\n",
       "50%        186.000000\n",
       "75%        333.000000\n",
       "max       1372.000000\n",
       "Name: totalAmount, dtype: float64"
      ]
     },
     "execution_count": 50,
     "metadata": {},
     "output_type": "execute_result"
    }
   ],
   "source": [
    "some_data[some_data[\"returnLabel\"] == 0][\"totalAmount\"].describe()"
   ]
  },
  {
   "cell_type": "code",
   "execution_count": 51,
   "metadata": {},
   "outputs": [
    {
     "data": {
      "text/plain": [
       "count    6652.000000\n",
       "mean      313.644768\n",
       "std       242.537213\n",
       "min        10.000000\n",
       "25%       120.000000\n",
       "50%       252.000000\n",
       "75%       440.000000\n",
       "max      1976.000000\n",
       "Name: totalAmount, dtype: float64"
      ]
     },
     "execution_count": 51,
     "metadata": {},
     "output_type": "execute_result"
    }
   ],
   "source": [
    "some_data[some_data[\"returnLabel\"] == 1][\"totalAmount\"].describe()"
   ]
  },
  {
   "cell_type": "code",
   "execution_count": 52,
   "metadata": {},
   "outputs": [
    {
     "data": {
      "text/plain": [
       "<seaborn.axisgrid.FacetGrid at 0x7ff01160e7d0>"
      ]
     },
     "execution_count": 52,
     "metadata": {},
     "output_type": "execute_result"
    },
    {
     "data": {
      "image/png": "[encoded data removed]",
      "text/plain": [
       "<Figure size 360x360 with 1 Axes>"
      ]
     },
     "metadata": {
      "needs_background": "light"
     },
     "output_type": "display_data"
    }
   ],
   "source": [
    "sns.displot(some_data, x=\"totalAmount\", element=\"step\")"
   ]
  },
  {
   "cell_type": "code",
   "execution_count": 53,
   "metadata": {},
   "outputs": [
    {
     "data": {
      "text/plain": [
       "<seaborn.axisgrid.FacetGrid at 0x7ff011778e90>"
      ]
     },
     "execution_count": 53,
     "metadata": {},
     "output_type": "execute_result"
    },
    {
     "data": {
      "image/png": "[encoded data removed]",
      "text/plain": [
       "<Figure size 437.625x360 with 1 Axes>"
      ]
     },
     "metadata": {
      "needs_background": "light"
     },
     "output_type": "display_data"
    }
   ],
   "source": [
    "sns.displot(data, x=\"totalAmount\", element=\"step\", hue=\"customerType\")"
   ]
  },
  {
   "cell_type": "code",
   "execution_count": 54,
   "metadata": {},
   "outputs": [
    {
     "data": {
      "text/plain": [
       "<seaborn.axisgrid.FacetGrid at 0x7ff0101d2590>"
      ]
     },
     "execution_count": 54,
     "metadata": {},
     "output_type": "execute_result"
    },
    {
     "data": {
      "image/png": "[encoded data removed]",
      "text/plain": [
       "<Figure size 425.5x360 with 1 Axes>"
      ]
     },
     "metadata": {
      "needs_background": "light"
     },
     "output_type": "display_data"
    }
   ],
   "source": [
    "sns.displot(some_data, x=\"totalAmount\", element=\"step\", hue=\"returnLabel\")"
   ]
  },
  {
   "cell_type": "code",
   "execution_count": 55,
   "metadata": {},
   "outputs": [
    {
     "data": {
      "text/plain": [
       "<seaborn.axisgrid.FacetGrid at 0x7ff010d803d0>"
      ]
     },
     "execution_count": 55,
     "metadata": {},
     "output_type": "execute_result"
    },
    {
     "data": {
      "image/png": "[encoded data removed]",
      "text/plain": [
       "<Figure size 402.375x360 with 1 Axes>"
      ]
     },
     "metadata": {
      "needs_background": "light"
     },
     "output_type": "display_data"
    }
   ],
   "source": [
    "sns.displot(some_data, x=\"totalAmount\", element=\"poly\", hue=\"5\") #elemets {step, poly, bars}"
   ]
  },
  {
   "cell_type": "code",
   "execution_count": 56,
   "metadata": {},
   "outputs": [],
   "source": [
    "#some_data = pd.concat([X_train, y_train], axis=1)\n",
    "#some_data[2 * some_data[\"4\"] - some_data[\"AmountOfItems\"] >= 0].groupby(by=\"returnLabel\").sum()"
   ]
  },
  {
   "cell_type": "code",
   "execution_count": 57,
   "metadata": {},
   "outputs": [
    {
     "data": {
      "text/html": [
       "<div>\n",
       "<style scoped>\n",
       "    .dataframe tbody tr th:only-of-type {\n",
       "        vertical-align: middle;\n",
       "    }\n",
       "\n",
       "    .dataframe tbody tr th {\n",
       "        vertical-align: top;\n",
       "    }\n",
       "\n",
       "    .dataframe thead th {\n",
       "        text-align: right;\n",
       "    }\n",
       "</style>\n",
       "<table border=\"1\" class=\"dataframe\">\n",
       "  <thead>\n",
       "    <tr style=\"text-align: right;\">\n",
       "      <th></th>\n",
       "      <th>4</th>\n",
       "    </tr>\n",
       "    <tr>\n",
       "      <th>returnLabel</th>\n",
       "      <th></th>\n",
       "    </tr>\n",
       "  </thead>\n",
       "  <tbody>\n",
       "    <tr>\n",
       "      <th>0</th>\n",
       "      <td>12124</td>\n",
       "    </tr>\n",
       "    <tr>\n",
       "      <th>1</th>\n",
       "      <td>13898</td>\n",
       "    </tr>\n",
       "  </tbody>\n",
       "</table>\n",
       "</div>"
      ],
      "text/plain": [
       "                 4\n",
       "returnLabel       \n",
       "0            12124\n",
       "1            13898"
      ]
     },
     "execution_count": 57,
     "metadata": {},
     "output_type": "execute_result"
    }
   ],
   "source": [
    "pd.concat([X_train[\"4\"], y_train], axis=1).groupby(by=\"returnLabel\").sum()"
   ]
  },
  {
   "cell_type": "code",
   "execution_count": 58,
   "metadata": {},
   "outputs": [
    {
     "data": {
      "text/html": [
       "<div>\n",
       "<style scoped>\n",
       "    .dataframe tbody tr th:only-of-type {\n",
       "        vertical-align: middle;\n",
       "    }\n",
       "\n",
       "    .dataframe tbody tr th {\n",
       "        vertical-align: top;\n",
       "    }\n",
       "\n",
       "    .dataframe thead th {\n",
       "        text-align: right;\n",
       "    }\n",
       "</style>\n",
       "<table border=\"1\" class=\"dataframe\">\n",
       "  <thead>\n",
       "    <tr style=\"text-align: right;\">\n",
       "      <th></th>\n",
       "      <th>3</th>\n",
       "    </tr>\n",
       "    <tr>\n",
       "      <th>returnLabel</th>\n",
       "      <th></th>\n",
       "    </tr>\n",
       "  </thead>\n",
       "  <tbody>\n",
       "    <tr>\n",
       "      <th>0</th>\n",
       "      <td>12290</td>\n",
       "    </tr>\n",
       "    <tr>\n",
       "      <th>1</th>\n",
       "      <td>8347</td>\n",
       "    </tr>\n",
       "  </tbody>\n",
       "</table>\n",
       "</div>"
      ],
      "text/plain": [
       "                 3\n",
       "returnLabel       \n",
       "0            12290\n",
       "1             8347"
      ]
     },
     "execution_count": 58,
     "metadata": {},
     "output_type": "execute_result"
    }
   ],
   "source": [
    "pd.concat([X_train[\"3\"], y_train], axis=1).groupby(by=\"returnLabel\").sum()"
   ]
  },
  {
   "cell_type": "code",
   "execution_count": 59,
   "metadata": {},
   "outputs": [
    {
     "data": {
      "text/html": [
       "<div>\n",
       "<style scoped>\n",
       "    .dataframe tbody tr th:only-of-type {\n",
       "        vertical-align: middle;\n",
       "    }\n",
       "\n",
       "    .dataframe tbody tr th {\n",
       "        vertical-align: top;\n",
       "    }\n",
       "\n",
       "    .dataframe thead th {\n",
       "        text-align: right;\n",
       "    }\n",
       "</style>\n",
       "<table border=\"1\" class=\"dataframe\">\n",
       "  <thead>\n",
       "    <tr style=\"text-align: right;\">\n",
       "      <th></th>\n",
       "      <th>2</th>\n",
       "    </tr>\n",
       "    <tr>\n",
       "      <th>returnLabel</th>\n",
       "      <th></th>\n",
       "    </tr>\n",
       "  </thead>\n",
       "  <tbody>\n",
       "    <tr>\n",
       "      <th>0</th>\n",
       "      <td>12332</td>\n",
       "    </tr>\n",
       "    <tr>\n",
       "      <th>1</th>\n",
       "      <td>2834</td>\n",
       "    </tr>\n",
       "  </tbody>\n",
       "</table>\n",
       "</div>"
      ],
      "text/plain": [
       "                 2\n",
       "returnLabel       \n",
       "0            12332\n",
       "1             2834"
      ]
     },
     "execution_count": 59,
     "metadata": {},
     "output_type": "execute_result"
    }
   ],
   "source": [
    "pd.concat([X_train[\"2\"], y_train], axis=1).groupby(by=\"returnLabel\").sum()"
   ]
  },
  {
   "cell_type": "code",
   "execution_count": 60,
   "metadata": {},
   "outputs": [
    {
     "data": {
      "text/html": [
       "<div>\n",
       "<style scoped>\n",
       "    .dataframe tbody tr th:only-of-type {\n",
       "        vertical-align: middle;\n",
       "    }\n",
       "\n",
       "    .dataframe tbody tr th {\n",
       "        vertical-align: top;\n",
       "    }\n",
       "\n",
       "    .dataframe thead th {\n",
       "        text-align: right;\n",
       "    }\n",
       "</style>\n",
       "<table border=\"1\" class=\"dataframe\">\n",
       "  <thead>\n",
       "    <tr style=\"text-align: right;\">\n",
       "      <th></th>\n",
       "      <th>1</th>\n",
       "    </tr>\n",
       "    <tr>\n",
       "      <th>returnLabel</th>\n",
       "      <th></th>\n",
       "    </tr>\n",
       "  </thead>\n",
       "  <tbody>\n",
       "    <tr>\n",
       "      <th>0</th>\n",
       "      <td>12085</td>\n",
       "    </tr>\n",
       "    <tr>\n",
       "      <th>1</th>\n",
       "      <td>2749</td>\n",
       "    </tr>\n",
       "  </tbody>\n",
       "</table>\n",
       "</div>"
      ],
      "text/plain": [
       "                 1\n",
       "returnLabel       \n",
       "0            12085\n",
       "1             2749"
      ]
     },
     "execution_count": 60,
     "metadata": {},
     "output_type": "execute_result"
    }
   ],
   "source": [
    "pd.concat([X_train[\"1\"], y_train], axis=1).groupby(by=\"returnLabel\").sum()"
   ]
  },
  {
   "cell_type": "code",
   "execution_count": 61,
   "metadata": {},
   "outputs": [
    {
     "data": {
      "text/html": [
       "<div>\n",
       "<style scoped>\n",
       "    .dataframe tbody tr th:only-of-type {\n",
       "        vertical-align: middle;\n",
       "    }\n",
       "\n",
       "    .dataframe tbody tr th {\n",
       "        vertical-align: top;\n",
       "    }\n",
       "\n",
       "    .dataframe thead th {\n",
       "        text-align: right;\n",
       "    }\n",
       "</style>\n",
       "<table border=\"1\" class=\"dataframe\">\n",
       "  <thead>\n",
       "    <tr style=\"text-align: right;\">\n",
       "      <th></th>\n",
       "      <th>0</th>\n",
       "    </tr>\n",
       "    <tr>\n",
       "      <th>returnLabel</th>\n",
       "      <th></th>\n",
       "    </tr>\n",
       "  </thead>\n",
       "  <tbody>\n",
       "    <tr>\n",
       "      <th>0</th>\n",
       "      <td>12248</td>\n",
       "    </tr>\n",
       "    <tr>\n",
       "      <th>1</th>\n",
       "      <td>2715</td>\n",
       "    </tr>\n",
       "  </tbody>\n",
       "</table>\n",
       "</div>"
      ],
      "text/plain": [
       "                 0\n",
       "returnLabel       \n",
       "0            12248\n",
       "1             2715"
      ]
     },
     "execution_count": 61,
     "metadata": {},
     "output_type": "execute_result"
    }
   ],
   "source": [
    "pd.concat([X_train[\"0\"], y_train], axis=1).groupby(by=\"returnLabel\").sum()"
   ]
  },
  {
   "cell_type": "markdown",
   "metadata": {},
   "source": [
    "<h1> Feature Scaling</h1>\n",
    "\n",
    "## 6. Skalieren Sie die Features mit einem StandardScaler."
   ]
  },
  {
   "cell_type": "code",
   "execution_count": 62,
   "metadata": {},
   "outputs": [],
   "source": [
    "std_sc_all = StandardScaler().fit(X_train)\n",
    "X_train_scaled = std_sc_all.transform(X_train)\n",
    "X_train = pd.DataFrame(X_train_scaled, index = X_train.index, columns=X_train.columns)"
   ]
  },
  {
   "cell_type": "code",
   "execution_count": 63,
   "metadata": {},
   "outputs": [],
   "source": [
    "\"\"\"Skalieren Test Daten\"\"\"\n",
    "def testScale(my_data):\n",
    "    my_data_scaled = std_sc_all.transform(my_data)\n",
    "    my_data = pd.DataFrame(my_data_scaled, index = my_data.index, columns=my_data.columns)\n",
    "    return my_data"
   ]
  },
  {
   "cell_type": "code",
   "execution_count": 64,
   "metadata": {},
   "outputs": [
    {
     "data": {
      "text/html": [
       "<div>\n",
       "<style scoped>\n",
       "    .dataframe tbody tr th:only-of-type {\n",
       "        vertical-align: middle;\n",
       "    }\n",
       "\n",
       "    .dataframe tbody tr th {\n",
       "        vertical-align: top;\n",
       "    }\n",
       "\n",
       "    .dataframe thead th {\n",
       "        text-align: right;\n",
       "    }\n",
       "</style>\n",
       "<table border=\"1\" class=\"dataframe\">\n",
       "  <thead>\n",
       "    <tr style=\"text-align: right;\">\n",
       "      <th></th>\n",
       "      <th>totalAmount</th>\n",
       "      <th>AmountOfItems</th>\n",
       "      <th>0</th>\n",
       "      <th>1</th>\n",
       "      <th>2</th>\n",
       "      <th>3</th>\n",
       "      <th>4</th>\n",
       "      <th>5</th>\n",
       "      <th>ifFifth</th>\n",
       "      <th>3or4not5</th>\n",
       "      <th>0or1or2</th>\n",
       "      <th>existing</th>\n",
       "      <th>new</th>\n",
       "    </tr>\n",
       "  </thead>\n",
       "  <tbody>\n",
       "    <tr>\n",
       "      <th>0</th>\n",
       "      <td>-0.027351</td>\n",
       "      <td>-0.607275</td>\n",
       "      <td>-0.771563</td>\n",
       "      <td>-0.767737</td>\n",
       "      <td>-0.775046</td>\n",
       "      <td>0.075189</td>\n",
       "      <td>0.634586</td>\n",
       "      <td>-0.644106</td>\n",
       "      <td>0.763716</td>\n",
       "      <td>0.955883</td>\n",
       "      <td>2.066540</td>\n",
       "      <td>-1.558612</td>\n",
       "      <td>1.558612</td>\n",
       "    </tr>\n",
       "    <tr>\n",
       "      <th>1</th>\n",
       "      <td>-0.873409</td>\n",
       "      <td>0.133204</td>\n",
       "      <td>0.383487</td>\n",
       "      <td>-0.767737</td>\n",
       "      <td>1.514422</td>\n",
       "      <td>-0.880132</td>\n",
       "      <td>-0.122402</td>\n",
       "      <td>0.527090</td>\n",
       "      <td>-1.309387</td>\n",
       "      <td>-1.046153</td>\n",
       "      <td>-0.483901</td>\n",
       "      <td>0.641597</td>\n",
       "      <td>-0.641597</td>\n",
       "    </tr>\n",
       "    <tr>\n",
       "      <th>2</th>\n",
       "      <td>-0.808327</td>\n",
       "      <td>-1.347754</td>\n",
       "      <td>-0.771563</td>\n",
       "      <td>-0.767737</td>\n",
       "      <td>-0.775046</td>\n",
       "      <td>-0.880132</td>\n",
       "      <td>-0.879391</td>\n",
       "      <td>0.527090</td>\n",
       "      <td>-1.309387</td>\n",
       "      <td>-1.046153</td>\n",
       "      <td>2.066540</td>\n",
       "      <td>0.641597</td>\n",
       "      <td>-0.641597</td>\n",
       "    </tr>\n",
       "    <tr>\n",
       "      <th>3</th>\n",
       "      <td>-0.659570</td>\n",
       "      <td>-0.237036</td>\n",
       "      <td>-0.771563</td>\n",
       "      <td>0.391580</td>\n",
       "      <td>0.369688</td>\n",
       "      <td>-0.880132</td>\n",
       "      <td>0.634586</td>\n",
       "      <td>-0.644106</td>\n",
       "      <td>0.763716</td>\n",
       "      <td>0.955883</td>\n",
       "      <td>-0.483901</td>\n",
       "      <td>0.641597</td>\n",
       "      <td>-0.641597</td>\n",
       "    </tr>\n",
       "    <tr>\n",
       "      <th>4</th>\n",
       "      <td>0.558381</td>\n",
       "      <td>0.873682</td>\n",
       "      <td>0.383487</td>\n",
       "      <td>-0.767737</td>\n",
       "      <td>2.659156</td>\n",
       "      <td>1.030510</td>\n",
       "      <td>-0.879391</td>\n",
       "      <td>0.527090</td>\n",
       "      <td>-1.309387</td>\n",
       "      <td>-1.046153</td>\n",
       "      <td>-0.483901</td>\n",
       "      <td>0.641597</td>\n",
       "      <td>-0.641597</td>\n",
       "    </tr>\n",
       "  </tbody>\n",
       "</table>\n",
       "</div>"
      ],
      "text/plain": [
       "   totalAmount  AmountOfItems         0         1         2         3  \\\n",
       "0    -0.027351      -0.607275 -0.771563 -0.767737 -0.775046  0.075189   \n",
       "1    -0.873409       0.133204  0.383487 -0.767737  1.514422 -0.880132   \n",
       "2    -0.808327      -1.347754 -0.771563 -0.767737 -0.775046 -0.880132   \n",
       "3    -0.659570      -0.237036 -0.771563  0.391580  0.369688 -0.880132   \n",
       "4     0.558381       0.873682  0.383487 -0.767737  2.659156  1.030510   \n",
       "\n",
       "          4         5   ifFifth  3or4not5   0or1or2  existing       new  \n",
       "0  0.634586 -0.644106  0.763716  0.955883  2.066540 -1.558612  1.558612  \n",
       "1 -0.122402  0.527090 -1.309387 -1.046153 -0.483901  0.641597 -0.641597  \n",
       "2 -0.879391  0.527090 -1.309387 -1.046153  2.066540  0.641597 -0.641597  \n",
       "3  0.634586 -0.644106  0.763716  0.955883 -0.483901  0.641597 -0.641597  \n",
       "4 -0.879391  0.527090 -1.309387 -1.046153 -0.483901  0.641597 -0.641597  "
      ]
     },
     "execution_count": 64,
     "metadata": {},
     "output_type": "execute_result"
    }
   ],
   "source": [
    "X_train.head() #Values can be more than 1 because max could be in test"
   ]
  },
  {
   "cell_type": "markdown",
   "metadata": {},
   "source": [
    "<h1> Training Models</h1>\n",
    "\n",
    "## 7. Trainieren Sie die folgenden Klassifikationsmodelle und probieren Sie die angegebenen Hyperparameter mittels Cross-Validation aus:"
   ]
  },
  {
   "cell_type": "code",
   "execution_count": 65,
   "metadata": {},
   "outputs": [],
   "source": [
    "\n",
    "from sklearn.linear_model import LogisticRegression,LinearRegression, Ridge, RidgeCV, Lasso, LassoCV\n",
    "from sklearn.metrics import mean_squared_error \n",
    "from sklearn.model_selection import GridSearchCV\n",
    "from sklearn.metrics import accuracy_score\n",
    "from sklearn.ensemble import RandomForestClassifier\n",
    "from sklearn.ensemble import GradientBoostingClassifier"
   ]
  },
  {
   "cell_type": "markdown",
   "metadata": {},
   "source": [
    "## Logistische Regression"
   ]
  },
  {
   "cell_type": "code",
   "execution_count": 66,
   "metadata": {},
   "outputs": [],
   "source": [
    "C = [0.1,1,4,5,6,10,30,100]\n",
    "penalty = [\"l1\", \"l2\"]\n",
    "log_models = []\n",
    "#lbfgs\n",
    "#liblinear\n",
    "logReg = GridSearchCV(\n",
    "        estimator = LogisticRegression(max_iter=1000, solver=\"liblinear\", random_state=0),\n",
    "        param_grid = {\n",
    "            'C': C,\n",
    "            \"penalty\": penalty,\n",
    "        },\n",
    "        n_jobs=-1,\n",
    "        cv=5 #old version is 3\n",
    "    )"
   ]
  },
  {
   "cell_type": "markdown",
   "metadata": {},
   "source": [
    "### Trainieren Logistische Regression"
   ]
  },
  {
   "cell_type": "code",
   "execution_count": 67,
   "metadata": {},
   "outputs": [
    {
     "data": {
      "text/plain": [
       "GridSearchCV(cv=5,\n",
       "             estimator=LogisticRegression(max_iter=1000, random_state=0,\n",
       "                                          solver='liblinear'),\n",
       "             n_jobs=-1,\n",
       "             param_grid={'C': [0.1, 1, 4, 5, 6, 10, 30, 100],\n",
       "                         'penalty': ['l1', 'l2']})"
      ]
     },
     "execution_count": 67,
     "metadata": {},
     "output_type": "execute_result"
    }
   ],
   "source": [
    "logReg.fit(X_train, y_train)"
   ]
  },
  {
   "cell_type": "markdown",
   "metadata": {},
   "source": [
    "## Random Forest und Gradient Boosting Tree"
   ]
  },
  {
   "cell_type": "code",
   "execution_count": 68,
   "metadata": {},
   "outputs": [],
   "source": [
    "n_estimators = [60,80,100,120,140]\n",
    "max_depth = [2, 4, 6]\n",
    "\n",
    "parameter_candidates = [\n",
    "                        {\n",
    "                        'n_estimators': n_estimators,\n",
    "                        \"max_depth\": max_depth,\n",
    "                        }\n",
    "                       ]\n",
    "rf = RandomForestClassifier(random_state = 0)\n",
    "gb = GradientBoostingClassifier(random_state = 0)\n",
    "grid_rf = GridSearchCV(estimator=rf, param_grid=parameter_candidates, n_jobs=-1, cv= 5)\n",
    "grid_gb = GridSearchCV(estimator=gb, param_grid=parameter_candidates, n_jobs=-1, cv = 5)\n"
   ]
  },
  {
   "cell_type": "markdown",
   "metadata": {},
   "source": [
    "## Trainieren Random Forest und GBT"
   ]
  },
  {
   "cell_type": "code",
   "execution_count": 69,
   "metadata": {},
   "outputs": [
    {
     "data": {
      "text/plain": [
       "GridSearchCV(cv=5, estimator=GradientBoostingClassifier(random_state=0),\n",
       "             n_jobs=-1,\n",
       "             param_grid=[{'max_depth': [2, 4, 6],\n",
       "                          'n_estimators': [60, 80, 100, 120, 140]}])"
      ]
     },
     "execution_count": 69,
     "metadata": {},
     "output_type": "execute_result"
    }
   ],
   "source": [
    "grid_rf.fit(X_train, y_train)\n",
    "grid_gb.fit(X_train, y_train)"
   ]
  },
  {
   "cell_type": "markdown",
   "metadata": {},
   "source": [
    "## 8. Laden Sie die Testdaten."
   ]
  },
  {
   "cell_type": "code",
   "execution_count": 70,
   "metadata": {},
   "outputs": [],
   "source": [
    "test_data = pd.read_csv(\"data/project/test.csv\", delimiter=\";\")"
   ]
  },
  {
   "cell_type": "code",
   "execution_count": 71,
   "metadata": {},
   "outputs": [
    {
     "name": "stdout",
     "output_type": "stream",
     "text": [
      "<class 'pandas.core.frame.DataFrame'>\n",
      "RangeIndex: 9600 entries, 0 to 9599\n",
      "Data columns (total 5 columns):\n",
      " #   Column         Non-Null Count  Dtype  \n",
      "---  ------         --------------  -----  \n",
      " 0   transactionId  9600 non-null   int64  \n",
      " 1   basket         9600 non-null   object \n",
      " 2   customerType   9397 non-null   object \n",
      " 3   totalAmount    9425 non-null   float64\n",
      " 4   returnLabel    9600 non-null   int64  \n",
      "dtypes: float64(1), int64(2), object(2)\n",
      "memory usage: 375.1+ KB\n"
     ]
    },
    {
     "data": {
      "text/html": [
       "<div>\n",
       "<style scoped>\n",
       "    .dataframe tbody tr th:only-of-type {\n",
       "        vertical-align: middle;\n",
       "    }\n",
       "\n",
       "    .dataframe tbody tr th {\n",
       "        vertical-align: top;\n",
       "    }\n",
       "\n",
       "    .dataframe thead th {\n",
       "        text-align: right;\n",
       "    }\n",
       "</style>\n",
       "<table border=\"1\" class=\"dataframe\">\n",
       "  <thead>\n",
       "    <tr style=\"text-align: right;\">\n",
       "      <th></th>\n",
       "      <th>transactionId</th>\n",
       "      <th>basket</th>\n",
       "      <th>customerType</th>\n",
       "      <th>totalAmount</th>\n",
       "      <th>returnLabel</th>\n",
       "    </tr>\n",
       "  </thead>\n",
       "  <tbody>\n",
       "    <tr>\n",
       "      <th>0</th>\n",
       "      <td>4132523932</td>\n",
       "      <td>[4, 3, 4, 3, 2, 3]</td>\n",
       "      <td>existing</td>\n",
       "      <td>366.0</td>\n",
       "      <td>1</td>\n",
       "    </tr>\n",
       "    <tr>\n",
       "      <th>1</th>\n",
       "      <td>8998574539</td>\n",
       "      <td>[3, 4, 4, 3, 5]</td>\n",
       "      <td>existing</td>\n",
       "      <td>85.0</td>\n",
       "      <td>0</td>\n",
       "    </tr>\n",
       "    <tr>\n",
       "      <th>2</th>\n",
       "      <td>9346688547</td>\n",
       "      <td>[1, 1, 2, 2, 4, 4, 3, 1, 1, 0, 3]</td>\n",
       "      <td>existing</td>\n",
       "      <td>275.0</td>\n",
       "      <td>0</td>\n",
       "    </tr>\n",
       "    <tr>\n",
       "      <th>3</th>\n",
       "      <td>4533897707</td>\n",
       "      <td>[3, 2, 2, 1, 5, 1, 1, 0]</td>\n",
       "      <td>existing</td>\n",
       "      <td>528.0</td>\n",
       "      <td>0</td>\n",
       "    </tr>\n",
       "    <tr>\n",
       "      <th>4</th>\n",
       "      <td>3334800500</td>\n",
       "      <td>[4, 2, 3, 5, 2, 5, 1]</td>\n",
       "      <td>existing</td>\n",
       "      <td>287.0</td>\n",
       "      <td>0</td>\n",
       "    </tr>\n",
       "    <tr>\n",
       "      <th>5</th>\n",
       "      <td>4959057525</td>\n",
       "      <td>[4, 4, 3]</td>\n",
       "      <td>existing</td>\n",
       "      <td>NaN</td>\n",
       "      <td>1</td>\n",
       "    </tr>\n",
       "  </tbody>\n",
       "</table>\n",
       "</div>"
      ],
      "text/plain": [
       "   transactionId                             basket customerType  totalAmount  \\\n",
       "0     4132523932                 [4, 3, 4, 3, 2, 3]     existing        366.0   \n",
       "1     8998574539                    [3, 4, 4, 3, 5]     existing         85.0   \n",
       "2     9346688547  [1, 1, 2, 2, 4, 4, 3, 1, 1, 0, 3]     existing        275.0   \n",
       "3     4533897707           [3, 2, 2, 1, 5, 1, 1, 0]     existing        528.0   \n",
       "4     3334800500              [4, 2, 3, 5, 2, 5, 1]     existing        287.0   \n",
       "5     4959057525                          [4, 4, 3]     existing          NaN   \n",
       "\n",
       "   returnLabel  \n",
       "0            1  \n",
       "1            0  \n",
       "2            0  \n",
       "3            0  \n",
       "4            0  \n",
       "5            1  "
      ]
     },
     "execution_count": 71,
     "metadata": {},
     "output_type": "execute_result"
    }
   ],
   "source": [
    "test_data.info()\n",
    "test_data.head(6)"
   ]
  },
  {
   "cell_type": "markdown",
   "metadata": {},
   "source": [
    "## 9. Entfernen Sie alle Zeilen mit fehlenden Werten."
   ]
  },
  {
   "cell_type": "code",
   "execution_count": 72,
   "metadata": {},
   "outputs": [],
   "source": [
    "X_test = test_data.loc[:,[\"basket\",\"totalAmount\", \"customerType\"]]\n",
    "#X_test = X_test[test_data[\"customerType\"].notna()]  \n",
    "#X_test = X_test[test_data[\"totalAmount\"].notna()] \n",
    "X_test = X_test.dropna()"
   ]
  },
  {
   "cell_type": "code",
   "execution_count": 73,
   "metadata": {},
   "outputs": [
    {
     "name": "stdout",
     "output_type": "stream",
     "text": [
      "0\n",
      "0\n"
     ]
    }
   ],
   "source": [
    "print(X_test[\"totalAmount\"].isna().sum()) #Prüfen, ob fehlende Werte existieren \n",
    "print(X_test[\"customerType\"].isna().sum()) #Prüfen, ob fehlende Werte existieren "
   ]
  },
  {
   "cell_type": "code",
   "execution_count": 74,
   "metadata": {},
   "outputs": [
    {
     "name": "stdout",
     "output_type": "stream",
     "text": [
      "<class 'pandas.core.frame.DataFrame'>\n",
      "Int64Index: 9226 entries, 0 to 9599\n",
      "Data columns (total 3 columns):\n",
      " #   Column        Non-Null Count  Dtype  \n",
      "---  ------        --------------  -----  \n",
      " 0   basket        9226 non-null   object \n",
      " 1   totalAmount   9226 non-null   float64\n",
      " 2   customerType  9226 non-null   object \n",
      "dtypes: float64(1), object(2)\n",
      "memory usage: 288.3+ KB\n"
     ]
    }
   ],
   "source": [
    "X_test.info()"
   ]
  },
  {
   "cell_type": "markdown",
   "metadata": {},
   "source": [
    "## 10. Transformieren Sie die Attribute genauso wie bei den Trainingsdaten."
   ]
  },
  {
   "cell_type": "code",
   "execution_count": 75,
   "metadata": {},
   "outputs": [],
   "source": [
    "X_test = prepareData(X_test) #Basket Column umgewandelt und ein paar Spalte hinzufügt \n",
    "y_test = test_data.loc[X_test.index, \"returnLabel\"]\n",
    "X_test = one_hot_customer(X_test) # One Hot Encoding customerType"
   ]
  },
  {
   "cell_type": "code",
   "execution_count": 76,
   "metadata": {},
   "outputs": [
    {
     "data": {
      "text/plain": [
       "0       1\n",
       "1       0\n",
       "2       0\n",
       "3       0\n",
       "4       0\n",
       "       ..\n",
       "9595    0\n",
       "9596    0\n",
       "9597    1\n",
       "9598    0\n",
       "9599    0\n",
       "Name: returnLabel, Length: 9226, dtype: int64"
      ]
     },
     "execution_count": 76,
     "metadata": {},
     "output_type": "execute_result"
    }
   ],
   "source": [
    "y_test #Series"
   ]
  },
  {
   "cell_type": "code",
   "execution_count": 77,
   "metadata": {},
   "outputs": [],
   "source": [
    "y_test = pd.DataFrame(y_test) "
   ]
  },
  {
   "cell_type": "code",
   "execution_count": 78,
   "metadata": {},
   "outputs": [
    {
     "data": {
      "text/html": [
       "<div>\n",
       "<style scoped>\n",
       "    .dataframe tbody tr th:only-of-type {\n",
       "        vertical-align: middle;\n",
       "    }\n",
       "\n",
       "    .dataframe tbody tr th {\n",
       "        vertical-align: top;\n",
       "    }\n",
       "\n",
       "    .dataframe thead th {\n",
       "        text-align: right;\n",
       "    }\n",
       "</style>\n",
       "<table border=\"1\" class=\"dataframe\">\n",
       "  <thead>\n",
       "    <tr style=\"text-align: right;\">\n",
       "      <th></th>\n",
       "      <th>returnLabel</th>\n",
       "    </tr>\n",
       "  </thead>\n",
       "  <tbody>\n",
       "    <tr>\n",
       "      <th>0</th>\n",
       "      <td>1</td>\n",
       "    </tr>\n",
       "    <tr>\n",
       "      <th>1</th>\n",
       "      <td>0</td>\n",
       "    </tr>\n",
       "    <tr>\n",
       "      <th>2</th>\n",
       "      <td>0</td>\n",
       "    </tr>\n",
       "    <tr>\n",
       "      <th>3</th>\n",
       "      <td>0</td>\n",
       "    </tr>\n",
       "    <tr>\n",
       "      <th>4</th>\n",
       "      <td>0</td>\n",
       "    </tr>\n",
       "    <tr>\n",
       "      <th>...</th>\n",
       "      <td>...</td>\n",
       "    </tr>\n",
       "    <tr>\n",
       "      <th>9595</th>\n",
       "      <td>0</td>\n",
       "    </tr>\n",
       "    <tr>\n",
       "      <th>9596</th>\n",
       "      <td>0</td>\n",
       "    </tr>\n",
       "    <tr>\n",
       "      <th>9597</th>\n",
       "      <td>1</td>\n",
       "    </tr>\n",
       "    <tr>\n",
       "      <th>9598</th>\n",
       "      <td>0</td>\n",
       "    </tr>\n",
       "    <tr>\n",
       "      <th>9599</th>\n",
       "      <td>0</td>\n",
       "    </tr>\n",
       "  </tbody>\n",
       "</table>\n",
       "<p>9226 rows × 1 columns</p>\n",
       "</div>"
      ],
      "text/plain": [
       "      returnLabel\n",
       "0               1\n",
       "1               0\n",
       "2               0\n",
       "3               0\n",
       "4               0\n",
       "...           ...\n",
       "9595            0\n",
       "9596            0\n",
       "9597            1\n",
       "9598            0\n",
       "9599            0\n",
       "\n",
       "[9226 rows x 1 columns]"
      ]
     },
     "execution_count": 78,
     "metadata": {},
     "output_type": "execute_result"
    }
   ],
   "source": [
    "y_test #Pandas"
   ]
  },
  {
   "cell_type": "code",
   "execution_count": 79,
   "metadata": {},
   "outputs": [
    {
     "name": "stdout",
     "output_type": "stream",
     "text": [
      "<class 'pandas.core.frame.DataFrame'>\n",
      "Int64Index: 9226 entries, 0 to 9599\n",
      "Data columns (total 1 columns):\n",
      " #   Column       Non-Null Count  Dtype\n",
      "---  ------       --------------  -----\n",
      " 0   returnLabel  9226 non-null   int64\n",
      "dtypes: int64(1)\n",
      "memory usage: 402.2 KB\n"
     ]
    }
   ],
   "source": [
    "y_test.info()"
   ]
  },
  {
   "cell_type": "code",
   "execution_count": 80,
   "metadata": {},
   "outputs": [
    {
     "name": "stdout",
     "output_type": "stream",
     "text": [
      "<class 'pandas.core.frame.DataFrame'>\n",
      "Int64Index: 9226 entries, 0 to 9599\n",
      "Data columns (total 13 columns):\n",
      " #   Column         Non-Null Count  Dtype  \n",
      "---  ------         --------------  -----  \n",
      " 0   totalAmount    9226 non-null   float64\n",
      " 1   AmountOfItems  9226 non-null   int64  \n",
      " 2   0              9226 non-null   int64  \n",
      " 3   1              9226 non-null   int64  \n",
      " 4   2              9226 non-null   int64  \n",
      " 5   3              9226 non-null   int64  \n",
      " 6   4              9226 non-null   int64  \n",
      " 7   5              9226 non-null   int64  \n",
      " 8   ifFifth        9226 non-null   int64  \n",
      " 9   3or4not5       9226 non-null   int64  \n",
      " 10  0or1or2        9226 non-null   int64  \n",
      " 11  existing       9226 non-null   uint8  \n",
      " 12  new            9226 non-null   uint8  \n",
      "dtypes: float64(1), int64(10), uint8(2)\n",
      "memory usage: 1.1 MB\n"
     ]
    }
   ],
   "source": [
    "X_test.info()"
   ]
  },
  {
   "cell_type": "markdown",
   "metadata": {},
   "source": [
    "## 11. Skalieren Sie die Daten im gleichem Maß wie die Trainingsdaten."
   ]
  },
  {
   "cell_type": "code",
   "execution_count": 81,
   "metadata": {},
   "outputs": [],
   "source": [
    "X_test = testScale(X_test)"
   ]
  },
  {
   "cell_type": "code",
   "execution_count": 82,
   "metadata": {},
   "outputs": [
    {
     "name": "stdout",
     "output_type": "stream",
     "text": [
      "<class 'pandas.core.frame.DataFrame'>\n",
      "Int64Index: 9226 entries, 0 to 9599\n",
      "Data columns (total 13 columns):\n",
      " #   Column         Non-Null Count  Dtype  \n",
      "---  ------         --------------  -----  \n",
      " 0   totalAmount    9226 non-null   float64\n",
      " 1   AmountOfItems  9226 non-null   float64\n",
      " 2   0              9226 non-null   float64\n",
      " 3   1              9226 non-null   float64\n",
      " 4   2              9226 non-null   float64\n",
      " 5   3              9226 non-null   float64\n",
      " 6   4              9226 non-null   float64\n",
      " 7   5              9226 non-null   float64\n",
      " 8   ifFifth        9226 non-null   float64\n",
      " 9   3or4not5       9226 non-null   float64\n",
      " 10  0or1or2        9226 non-null   float64\n",
      " 11  existing       9226 non-null   float64\n",
      " 12  new            9226 non-null   float64\n",
      "dtypes: float64(13)\n",
      "memory usage: 1.2 MB\n"
     ]
    }
   ],
   "source": [
    "X_test.info()\n"
   ]
  },
  {
   "cell_type": "markdown",
   "metadata": {},
   "source": [
    "## 12. Machen Sie eine Vorhersage auf den Testdaten mit allen drei Modellen und den jeweils besten Hyperparametern aus der Cross Validation."
   ]
  },
  {
   "cell_type": "code",
   "execution_count": 83,
   "metadata": {},
   "outputs": [],
   "source": [
    "predictions_logreg = logReg.predict(X_test)\n",
    "predictions_rf = grid_rf.predict(X_test)\n",
    "predictions_gb = grid_gb.predict(X_test)\n"
   ]
  },
  {
   "cell_type": "code",
   "execution_count": 84,
   "metadata": {},
   "outputs": [
    {
     "data": {
      "text/plain": [
       "{'C': 1, 'penalty': 'l2'}"
      ]
     },
     "execution_count": 84,
     "metadata": {},
     "output_type": "execute_result"
    }
   ],
   "source": [
    "logReg.best_params_"
   ]
  },
  {
   "cell_type": "code",
   "execution_count": 85,
   "metadata": {},
   "outputs": [
    {
     "data": {
      "text/plain": [
       "{'max_depth': 6, 'n_estimators': 100}"
      ]
     },
     "execution_count": 85,
     "metadata": {},
     "output_type": "execute_result"
    }
   ],
   "source": [
    "grid_rf.best_params_"
   ]
  },
  {
   "cell_type": "code",
   "execution_count": 86,
   "metadata": {},
   "outputs": [
    {
     "data": {
      "text/plain": [
       "{'max_depth': 4, 'n_estimators': 120}"
      ]
     },
     "execution_count": 86,
     "metadata": {},
     "output_type": "execute_result"
    }
   ],
   "source": [
    "grid_gb.best_params_"
   ]
  },
  {
   "cell_type": "markdown",
   "metadata": {},
   "source": [
    "## 13. Berechnen Sie für jedes der drei Modell Accuracy, Precision und Recall"
   ]
  },
  {
   "cell_type": "code",
   "execution_count": 87,
   "metadata": {},
   "outputs": [],
   "source": [
    "from sklearn.metrics import precision_score, mean_squared_error, recall_score, accuracy_score, f1_score"
   ]
  },
  {
   "cell_type": "code",
   "execution_count": 88,
   "metadata": {},
   "outputs": [
    {
     "name": "stdout",
     "output_type": "stream",
     "text": [
      "accuracy:  0.8749187079991328\n",
      "precision:  0.8028009084027252\n",
      "recall:  0.7701525054466231\n",
      "f1 score:  0.7861378799110453\n"
     ]
    }
   ],
   "source": [
    "#Gradient Boosting Tree scores\n",
    "print(\"accuracy: \", accuracy_score(y_test, grid_gb.predict(X_test)))\n",
    "print(\"precision: \", precision_score(y_test, grid_gb.predict(X_test)))\n",
    "print(\"recall: \", recall_score(y_test, grid_gb.predict(X_test)))\n",
    "print(\"f1 score: \", f1_score(y_test, grid_gb.predict(X_test)))"
   ]
  },
  {
   "cell_type": "code",
   "execution_count": 89,
   "metadata": {},
   "outputs": [
    {
     "name": "stdout",
     "output_type": "stream",
     "text": [
      "accuracy:  0.8599609798395838\n",
      "precision:  0.7882492113564669\n",
      "recall:  0.7258533042846769\n",
      "f1 score:  0.7557655954631379\n"
     ]
    }
   ],
   "source": [
    "#Random Forest\n",
    "print(\"accuracy: \", accuracy_score(y_test, grid_rf.predict(X_test)))\n",
    "print(\"precision: \", precision_score(y_test, grid_rf.predict(X_test)))\n",
    "print(\"recall: \", recall_score(y_test, grid_rf.predict(X_test)))\n",
    "print(\"f1 score: \", f1_score(y_test, grid_rf.predict(X_test)))"
   ]
  },
  {
   "cell_type": "code",
   "execution_count": 90,
   "metadata": {},
   "outputs": [
    {
     "name": "stdout",
     "output_type": "stream",
     "text": [
      "accuracy:  0.8729676999783221\n",
      "precision:  0.8131433095803642\n",
      "recall:  0.7458242556281772\n",
      "f1 score:  0.7780303030303031\n"
     ]
    }
   ],
   "source": [
    "#Logistic Regression\n",
    "print(\"accuracy: \", accuracy_score(y_test, logReg.predict(X_test)))\n",
    "print(\"precision: \", precision_score(y_test, logReg.predict(X_test)))\n",
    "print(\"recall: \", recall_score(y_test, logReg.predict(X_test)))\n",
    "print(\"f1 score: \", f1_score(y_test, logReg.predict(X_test)))"
   ]
  },
  {
   "cell_type": "markdown",
   "metadata": {},
   "source": [
    "## 14. Berechnen Sie außerdem die Accuracy auf den Trainingsdaten und vergleichen Sie Accuracy auf Trainings- und Testdaten. Liegt Overfitting vor? "
   ]
  },
  {
   "cell_type": "code",
   "execution_count": 91,
   "metadata": {},
   "outputs": [
    {
     "name": "stdout",
     "output_type": "stream",
     "text": [
      "Logistic Regression:  0.8790178571428572\n",
      "Random Forest:  0.8709821428571428\n",
      "Gradient Boosting Tree:  0.8861160714285714\n"
     ]
    }
   ],
   "source": [
    "print(\"Logistic Regression: \" , accuracy_score(y_train, logReg.predict(X_train)))\n",
    "print(\"Random Forest: \", accuracy_score(y_train, grid_rf.predict(X_train)))\n",
    "print(\"Gradient Boosting Tree: \", accuracy_score(y_train, grid_gb.predict(X_train)))\n"
   ]
  },
  {
   "cell_type": "raw",
   "metadata": {},
   "source": [
    "Es liegt kein Overfitting. Accuracy auf Testdaten und Trainingsdaten sind ungefähr identisch"
   ]
  },
  {
   "cell_type": "markdown",
   "metadata": {},
   "source": [
    "## 15. Untersuchen Sie wieviele Datenpunkte es in den Testdaten gibt, welche von allen drei Modellen falsch klassifiziert wurden"
   ]
  },
  {
   "cell_type": "code",
   "execution_count": 92,
   "metadata": {},
   "outputs": [
    {
     "name": "stdout",
     "output_type": "stream",
     "text": [
      "[0.70303571]\n"
     ]
    }
   ],
   "source": [
    "print((y_train == 0).sum() / y_train.shape) #Funny \n"
   ]
  },
  {
   "cell_type": "code",
   "execution_count": 93,
   "metadata": {},
   "outputs": [],
   "source": [
    "df_pred_lg = pd.DataFrame(predictions_logreg) # Predictions in DataFrame umgewandelt \n",
    "df_pred_rf = pd.DataFrame(predictions_rf)\n",
    "df_pred_gb = pd.DataFrame(predictions_gb)"
   ]
  },
  {
   "cell_type": "code",
   "execution_count": 94,
   "metadata": {},
   "outputs": [
    {
     "data": {
      "text/plain": [
       "(9226, 1)"
      ]
     },
     "execution_count": 94,
     "metadata": {},
     "output_type": "execute_result"
    }
   ],
   "source": [
    "y_test.shape"
   ]
  },
  {
   "cell_type": "code",
   "execution_count": 95,
   "metadata": {},
   "outputs": [
    {
     "data": {
      "text/plain": [
       "array([[1],\n",
       "       [0],\n",
       "       [0],\n",
       "       ...,\n",
       "       [1],\n",
       "       [0],\n",
       "       [0]])"
      ]
     },
     "execution_count": 95,
     "metadata": {},
     "output_type": "execute_result"
    }
   ],
   "source": [
    "y_test.to_numpy()"
   ]
  },
  {
   "cell_type": "code",
   "execution_count": 96,
   "metadata": {},
   "outputs": [
    {
     "data": {
      "text/plain": [
       "array([1, 0, 0, ..., 1, 0, 0])"
      ]
     },
     "execution_count": 96,
     "metadata": {},
     "output_type": "execute_result"
    }
   ],
   "source": [
    "y_test_np = np.resize(y_test.to_numpy(), y_test.shape[0]) #eine richtige Grösse angepasst\n",
    "y_test_np"
   ]
  },
  {
   "cell_type": "markdown",
   "metadata": {},
   "source": [
    "## Untersuchen Sie wieviele Datenpunkte es in den Testdaten gibt, welche von allen drei Modellen falsch klassifiziert wurden:"
   ]
  },
  {
   "cell_type": "markdown",
   "metadata": {},
   "source": [
    "### 1. Bestimmen Sie für jedes der drei Modelle die Indizes der Testdatenpunkte auf welchen das jeweilige Modell falsch klassifiziert hat."
   ]
  },
  {
   "cell_type": "code",
   "execution_count": 97,
   "metadata": {},
   "outputs": [],
   "source": [
    "false_index_lg = y_test[(y_test_np != predictions_logreg) ].index\n",
    "false_index_rf = y_test[(y_test_np != predictions_rf) ].index\n",
    "false_index_gb = y_test[(y_test_np != predictions_gb)].index\n"
   ]
  },
  {
   "cell_type": "code",
   "execution_count": 98,
   "metadata": {},
   "outputs": [],
   "source": [
    "intersection = set(false_index_lg) &  set(false_index_rf) & set(false_index_gb)"
   ]
  },
  {
   "cell_type": "markdown",
   "metadata": {},
   "source": [
    "### 2. Untersuchen Sie wieviele Datenpunkte es in den Testdaten gibt, welche von allen drei Modellen falsch klassifiziert wurden:"
   ]
  },
  {
   "cell_type": "code",
   "execution_count": 102,
   "metadata": {},
   "outputs": [
    {
     "data": {
      "text/plain": [
       "883"
      ]
     },
     "execution_count": 102,
     "metadata": {},
     "output_type": "execute_result"
    }
   ],
   "source": [
    "len(intersection)"
   ]
  }
 ],
 "metadata": {
  "kernelspec": {
   "display_name": "Python 3",
   "language": "python",
   "name": "python3"
  },
  "language_info": {
   "codemirror_mode": {
    "name": "ipython",
    "version": 3
   },
   "file_extension": ".py",
   "mimetype": "text/x-python",
   "name": "python",
   "nbconvert_exporter": "python",
   "pygments_lexer": "ipython3",
   "version": "3.7.4"
  }
 },
 "nbformat": 4,
 "nbformat_minor": 2
}
